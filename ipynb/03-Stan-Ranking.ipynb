{
 "cells": [
  {
   "cell_type": "markdown",
   "id": "1c1b10a6-a166-4e58-98f9-220c86aab27e",
   "metadata": {},
   "source": [
    "**Author**: Justine Debelius (justine.debelius@ki.se)<br>\n",
    "**Date**: Summer/Fall 2021<br>\n",
    "**Conda enviroment**: `micc-2021.11`<br>"
   ]
  },
  {
   "cell_type": "markdown",
   "id": "b3b0c1cb-1d98-44c3-8068-cef4cbb51bed",
   "metadata": {},
   "source": [
    "In this notebook, we'll set up the dat to run through Stan, which does magical bayesian statistics.\n",
    "\n",
    "**Note**: This notebook takes 24+ hours to run. Output files are saved in the data folder and can be substituted in downstream analyses if you dont want to run this step."
   ]
  },
  {
   "cell_type": "code",
   "execution_count": null,
   "id": "67cc69a7-f506-4308-af3e-8dfc958af663",
   "metadata": {},
   "outputs": [],
   "source": [
    "# Manages Stan and jupyter wweird convo. See:\n",
    "# https://github.com/jupyter/notebook/issues/3397\n",
    "import nest_asyncio\n",
    "nest_asyncio.apply()"
   ]
  },
  {
   "cell_type": "code",
   "execution_count": null,
   "id": "8eedcf2c-5d99-4117-a701-7eb6e5f5ca6b",
   "metadata": {},
   "outputs": [],
   "source": [
    "import os\n",
    "import pickle\n",
    "\n",
    "import biom\n",
    "import numpy as np\n",
    "import pandas as pd\n",
    "import patsy\n",
    "import stan\n",
    "\n",
    "from qiime2 import Artifact, Metadata, Visualization"
   ]
  },
  {
   "cell_type": "markdown",
   "id": "96dda675-ba86-4243-9c67-f82fbe367ef9",
   "metadata": {},
   "source": [
    "In this notebook, we'll set up the dat to run through Stan, which does magical bayesian statistics."
   ]
  },
  {
   "cell_type": "code",
   "execution_count": null,
   "id": "e743f44f-03c4-4f7f-a5ea-8f8a7b4b7087",
   "metadata": {},
   "outputs": [],
   "source": [
    "# Load the metadata \n",
    "meta_q2 = Metadata.load('data/metadata_paired.tsv')\n",
    "meta = meta_q2.to_dataframe()\n"
   ]
  },
  {
   "cell_type": "code",
   "execution_count": null,
   "id": "175c85cc-f710-4f39-9839-a982e50a8b7f",
   "metadata": {},
   "outputs": [],
   "source": [
    "# Loads the feature table and filters the samples\n",
    "table_q2 = Artifact.load('data/tables/phylum_defined_table.qza')\n",
    "table = table_q2.view(pd.DataFrame)\n",
    "keep_feats = (table.div(table.sum(axis=1), axis=0) > 1/1000).mean() >= 0.1\n",
    "table = table.loc[meta.index, keep_feats.index[keep_feats]].copy()\n",
    "# table = table"
   ]
  },
  {
   "cell_type": "code",
   "execution_count": null,
   "id": "f3233a58-2816-46b4-b100-dec019bc83be",
   "metadata": {},
   "outputs": [],
   "source": [
    "table.shape"
   ]
  },
  {
   "cell_type": "markdown",
   "id": "55c3c14d-077d-40c8-89c2-289ae0a29df8",
   "metadata": {},
   "source": [
    "The data and statistics get formatted for stan, which has some strong preferences about how the data is formatted. Our first model has the tissue_num as its fixed effect, and this gets passed into the stan code."
   ]
  },
  {
   "cell_type": "code",
   "execution_count": null,
   "id": "f8ea3d1d-8a79-4933-ac21-a6face2e1620",
   "metadata": {},
   "outputs": [],
   "source": [
    "meta['subject_num'] = meta['host_subject_id'].replace({\n",
    "    id_: i for i, id_ in enumerate(np.sort(meta['host_subject_id'].unique()))}\n",
    ").astype(int).copy() + 1\n",
    "meta.sort_values(['subject_num', 'tissue_type'], inplace=True)\n",
    "num_subjects = len(np.unique(meta['subject_num']))\n",
    "print(num_subjects)"
   ]
  },
  {
   "cell_type": "code",
   "execution_count": null,
   "id": "7eafd41c-ab09-4d51-913d-401198112009",
   "metadata": {},
   "outputs": [],
   "source": [
    "fixed = patsy.dmatrix('tissue_num', data=meta)\n",
    "print(fixed.design_info.describe())\n",
    "print(fixed.design_info.column_names)"
   ]
  },
  {
   "cell_type": "code",
   "execution_count": null,
   "id": "0caaf1dc-c27d-4ed1-876a-fd9a9588eda3",
   "metadata": {},
   "outputs": [],
   "source": [
    "code = open('scripts/stan_lme.stan', 'r').read()\n",
    "print(code)"
   ]
  },
  {
   "cell_type": "markdown",
   "id": "b4baa1b7-e316-448a-a4dd-7b061de12cb3",
   "metadata": {},
   "source": [
    "And then we fit the data to the stan function"
   ]
  },
  {
   "cell_type": "code",
   "execution_count": null,
   "id": "23d5761e-5ef8-49d5-afd0-baa4ab5fb86b",
   "metadata": {},
   "outputs": [],
   "source": [
    "parameters =  {\n",
    "    'N' : fixed.shape[0], # number of samples\n",
    "    'D' : np.nan, # number of dimensions\n",
    "    'J' : num_subjects, # number of subjects\n",
    "    'p' : fixed.shape[1], # number of covariates\n",
    "    'depth' : np.log(table.sum(axis=1).values), # depth of the sampless\n",
    "    'x' : np.asarray(fixed).astype(int), # the covariance matrix - predictors \n",
    "    'y' : sub_table.loc[meta.index].values.astype(np.int64),\n",
    "    'subj_ids': meta['subject_num'].values,\n",
    "    }"
   ]
  },
  {
   "cell_type": "code",
   "execution_count": null,
   "id": "905e6d3f-ab0c-410a-a3d1-36b5eb9853d6",
   "metadata": {},
   "outputs": [],
   "source": [
    "print('N: \\t', parameters['N'])\n",
    "print('D: \\t', parameters['D'])\n",
    "print('J: \\t', parameters['J'])\n",
    "print('p: \\t', parameters['p'])\n",
    "print('depth: \\t', parameters['depth'].shape)\n",
    "print('fixed: \\t', parameters['x'].shape)\n",
    "print('y: \\t', parameters['y'].shape)\n",
    "print('subj_ids', parameters['subj_ids'].shape)\n"
   ]
  },
  {
   "cell_type": "markdown",
   "id": "91f6ece8-e824-417e-8bae-d58a59b661c7",
   "metadata": {},
   "source": [
    "And then because Stan is run on a weird ALR system, we need to convert back to CLR for consistency and ranking..."
   ]
  },
  {
   "cell_type": "code",
   "execution_count": null,
   "id": "77f524f5-d8fd-488b-a96a-84bf42fba03d",
   "metadata": {},
   "outputs": [],
   "source": [
    "def alr2clr(x):\n",
    "    d = x.shape[0]\n",
    "    x_clr = np.hstack((np.zeros((d, 1)), x))\n",
    "    x_clr = x_clr - x_clr.mean(axis=1).reshape(-1, 1)\n",
    "    return x_clr\n"
   ]
  },
  {
   "cell_type": "code",
   "execution_count": null,
   "id": "6e3bc014-10ab-47b3-bbae-2903d58f9269",
   "metadata": {},
   "outputs": [],
   "source": [
    "def fit_stan_model(parameters, sub_table, feature_labels, design_info, \n",
    "                   sub_label='', code=code, dir_='.'):\n",
    "    \"\"\"\n",
    "    A wrapper function to allow iterations through the world of stan\n",
    "    \"\"\"\n",
    "    # Adds the subtable to the parameters\n",
    "    parameters['D'] = sub_table.shape[1]\n",
    "    parameters['y'] = sub_table.values.astype(np.int64)\n",
    "    \n",
    "    # Fits the model\n",
    "    posterior = stan.build(code, data=parameters)\n",
    "    fit = posterior.sample(num_chains=4, num_samples=1000)\n",
    "    \n",
    "    # Starts putting together a summary\n",
    "    summary = {'fit': fit,\n",
    "               'feature_labels': feature_labels,\n",
    "               'model': design_info.describe(),\n",
    "               'fit_columns': design_info.column_names,\n",
    "               }\n",
    "    \n",
    "    # Performs CLR to ALR conversion ont he data\n",
    "    alrs = {\n",
    "        col: pd.DataFrame(alr2clr(fit['beta'][i, :, :].T).T, \n",
    "                          index=feature_labels)\n",
    "        for i, col in enumerate(design_info.column_names)\n",
    "    }\n",
    "    \n",
    "    summary['model_fits'] = alrs\n",
    "    \n",
    "    with open(os.path.join(dir_, f'stan_summary{sub_label}.pickle'), 'wb') as f_:\n",
    "        pickle.dump(summary, f_)\n",
    "    \n",
    "    return summary"
   ]
  },
  {
   "cell_type": "markdown",
   "id": "bf559fee-352d-44b9-8ad1-138734062ecd",
   "metadata": {},
   "source": [
    "And now, we loop through the table of columnns, fit the data, and save it. This is partially so it takes a reasonable amount of time because this takes a *long* time to run."
   ]
  },
  {
   "cell_type": "code",
   "execution_count": null,
   "id": "43eb08c2-16b0-4cd8-83cc-ece5ead13cba",
   "metadata": {},
   "outputs": [],
   "source": [
    "partial_dir = 'data/differential_ranking/tissue_fit/partial_fits'\n",
    "os.makedirs(partial_dir, exist_ok=True)\n",
    "stan_tissue_fits = []\n",
    "for i in np.arange(0, len(table.columns), 50):\n",
    "    columns = table.columns[i:(i+50)]\n",
    "    fit_stan_model(parameters=parameters,\n",
    "                   sub_table=table.loc[meta.index, columns], \n",
    "                   feature_labels=columns,\n",
    "                   design_info=fixed.design_info,\n",
    "                   sub_label=f'_fit_{i}-{i+50}',\n",
    "                   dir_=partial_dir,\n",
    "                   )"
   ]
  },
  {
   "cell_type": "code",
   "execution_count": null,
   "id": "6c22ecbf-535f-4782-823f-826fce97a977",
   "metadata": {},
   "outputs": [],
   "source": [
    "meta['short_survival'] = (meta['long_survival'] == '0') * 1\n",
    "meta['short_survival'].value_counts()"
   ]
  },
  {
   "cell_type": "code",
   "execution_count": null,
   "id": "e9a5f271-adeb-4123-b063-d75b38c5f56e",
   "metadata": {},
   "outputs": [],
   "source": [
    "fixed2 = patsy.dmatrix('tissue_num*short_survival', data=meta)\n",
    "print(fixed2.design_info.describe())\n",
    "print(fixed2.design_info.column_names)"
   ]
  },
  {
   "cell_type": "code",
   "execution_count": null,
   "id": "c470cf87-fa90-4216-95cf-572e9cf69081",
   "metadata": {},
   "outputs": [],
   "source": [
    "parameters2 =  {\n",
    "    'N' : fixed2.shape[0], # number of samples\n",
    "    'D' : table.shape[1], # number of dimensions\n",
    "    'J' : num_subjects, # number of subjects\n",
    "    'p' : fixed2.shape[1], # number of covariates\n",
    "    'depth' : np.log(table.sum(axis=1).values), # depth of the sampless\n",
    "    'x' : np.asarray(fixed2).astype(int), # the covariance matrix - predictors \n",
    "    'y' : table.loc[meta.index].values.astype(np.int64),\n",
    "    'subj_ids': meta['subject_num'].values,\n",
    "    }"
   ]
  },
  {
   "cell_type": "code",
   "execution_count": null,
   "id": "b6837106-0479-47fe-9c75-ca713fec5628",
   "metadata": {
    "tags": []
   },
   "outputs": [],
   "source": [
    "partial_dir = 'data/differential_ranking/interaction_fit/partial_fits'\n",
    "os.makedirs(partial_dir, exist_ok=True)\n",
    "for i in np.arange(200, len(table.columns), 50):\n",
    "    columns = table.columns[i:(i+50)]\n",
    "    fit_stan_model(parameters=parameters2,\n",
    "                   sub_table=table.loc[meta.index, columns], \n",
    "                   feature_labels=columns,\n",
    "                   design_info=fixed2.design_info,\n",
    "                   sub_label=f'_fit_{i}-{i+50}',\n",
    "                   dir_=partial_dir,\n",
    "                   )"
   ]
  },
  {
   "cell_type": "markdown",
   "id": "4b16ef8d-8426-433e-aab9-a5a6bc9e7a27",
   "metadata": {},
   "source": [
    "# Collating tissue data"
   ]
  },
  {
   "cell_type": "code",
   "execution_count": null,
   "id": "b8194807-e039-454f-9c79-a3bd7f3dcf18",
   "metadata": {},
   "outputs": [],
   "source": [
    "def alr2clr(x):\n",
    "    d = x.shape[0]\n",
    "    x_clr = np.hstack((np.zeros((d, 1)), x))\n",
    "    x_clr = x_clr - x_clr.mean(axis=1).reshape(-1, 1)\n",
    "    return x_clr\n",
    "\n",
    "def extract_smmary(fp):\n",
    "    with open(fp, 'rb') as f_:\n",
    "        summary = pickle.load(f_)\n",
    "\n",
    "    alrs = summary.get('model_fit', None)\n",
    "    \n",
    "    if alrs is not None:\n",
    "        return alrs\n",
    "    \n",
    "    alrs = {\n",
    "        col: pd.DataFrame(alr2clr(summary['fit']['beta'][i, :, :].T).T, \n",
    "                          index=summary['feature_labels'])\n",
    "        for i, col in enumerate(summary['fit_columns'])\n",
    "    }\n",
    "    \n",
    "    return alrs"
   ]
  },
  {
   "cell_type": "code",
   "execution_count": null,
   "id": "243fdc57-044a-45b1-a964-c6d9160c7da7",
   "metadata": {},
   "outputs": [],
   "source": [
    "tissue_dir = 'data/differential_ranking/tissue_fit/partial_fits/'\n",
    "tissue_pickles = os.listdir(tissue_dir)"
   ]
  },
  {
   "cell_type": "code",
   "execution_count": null,
   "id": "dc818785-cadc-472c-b77d-1a48839f5175",
   "metadata": {},
   "outputs": [],
   "source": [
    "tissue_summaries = [\n",
    "    extract_smmary(os.path.join(tissue_dir, cornichon))\n",
    "    for cornichon in tissue_pickles\n",
    "]"
   ]
  },
  {
   "cell_type": "code",
   "execution_count": null,
   "id": "352bd4a0-79da-40f8-a7b0-5df395317872",
   "metadata": {},
   "outputs": [],
   "source": [
    "tissue_fit = pd.concat(axis=0, objs=[\n",
    "    summary['tissue_num'] for summary in tissue_summaries\n",
    "])\n",
    "tissue_rank = pd.DataFrame({\n",
    "    'tissue_mean': tissue_fit.mean(axis=1),\n",
    "    'tissue_std': tissue_fit.std(axis=1),\n",
    "    'tissue_rank': np.ones(len(tissue_fit)),\n",
    "})\n",
    "# tissue_rank = pd.concat(axis=1, objs=[tissue_rank, taxa.loc[tissue_rank.index]])\n",
    "tissue_rank.sort_values('tissue_mean', ascending=True, inplace=True)\n",
    "tissue_rank['tissue_rank'] = tissue_rank['tissue_rank'].cumsum() - 1\n",
    "tissue_rank.index.set_names('feature-id', inplace=True)"
   ]
  },
  {
   "cell_type": "code",
   "execution_count": null,
   "id": "2a958d36-90e8-458b-95fa-e21c21734b83",
   "metadata": {},
   "outputs": [],
   "source": [
    "tissue_rank.to_csv('data/differential_ranking/tissue_num.tsv', sep='\\t')"
   ]
  },
  {
   "cell_type": "markdown",
   "id": "680f1970-fd45-4970-9f3c-15d6fd4f7abc",
   "metadata": {},
   "source": [
    "# Loading interaction data"
   ]
  },
  {
   "cell_type": "code",
   "execution_count": null,
   "id": "7107159c-e8a2-4dd3-b6c2-21e5394ddfe2",
   "metadata": {},
   "outputs": [],
   "source": [
    "inter_dir = 'data/differential_ranking/interaction_fit/partial_fits/'\n",
    "inter_pickles = os.listdir(inter_dir)\n",
    "\n",
    "inter_summaries = [\n",
    "    extract_smmary(os.path.join(inter_dir, cornichon))\n",
    "    for cornichon in inter_pickles\n",
    "]"
   ]
  },
  {
   "cell_type": "code",
   "execution_count": null,
   "id": "bae347a9-c314-4ae1-b291-b981e63a0f12",
   "metadata": {},
   "outputs": [],
   "source": [
    "inter_fits = {\n",
    "    param: pd.concat(\n",
    "        axis=0,\n",
    "        objs=[\n",
    "            summary[param] for summary in inter_summaries\n",
    "        ]\n",
    "    )\n",
    "    for param in ['tissue_num', 'short_survival', \n",
    "                  'tissue_num:short_survival']\n",
    "}"
   ]
  },
  {
   "cell_type": "code",
   "execution_count": null,
   "id": "cdb317c6-2a5f-44d6-b3f9-5372567fd0b8",
   "metadata": {},
   "outputs": [],
   "source": [
    "inter_rank = pd.DataFrame({\n",
    "    'tissue_mean': inter_fits['tissue_num'].mean(axis=1),\n",
    "    'tissue_std': inter_fits['tissue_num'].std(axis=1),\n",
    "    'tissue_rank': np.ones(len(inter_fits['tissue_num'])),\n",
    "    'survival_mean': inter_fits['short_survival'].mean(axis=1),\n",
    "    'survival_std': inter_fits['short_survival'].std(axis=1),\n",
    "    'survival_rank': np.ones(len(inter_fits['short_survival'])),\n",
    "    'inter_mean': inter_fits['tissue_num:short_survival'].mean(axis=1),\n",
    "    'inter_std': inter_fits['tissue_num:short_survival'].std(axis=1),\n",
    "    'inter_rank': np.ones(len(inter_fits['tissue_num:short_survival'])),\n",
    "})\n",
    "inter_rank.sort_values('tissue_mean', ascending=True, inplace=True)\n",
    "inter_rank['tissue_rank'] = inter_rank['tissue_rank'].cumsum() - 1\n",
    "\n",
    "inter_rank.sort_values('survival_mean', ascending=True, inplace=True)\n",
    "inter_rank['survival_rank'] = inter_rank['survival_rank'].cumsum() - 1\n",
    "\n",
    "inter_rank.sort_values('inter_mean', ascending=True, inplace=True)\n",
    "inter_rank['inter_rank'] = inter_rank['inter_rank'].cumsum() - 1\n",
    "\n",
    "inter_rank.index.set_names('feature-id', inplace=True)"
   ]
  },
  {
   "cell_type": "code",
   "execution_count": null,
   "id": "9c1a1b69-ea81-447d-9fa2-8e497503b9d4",
   "metadata": {},
   "outputs": [],
   "source": [
    "inter_rank.to_csv('data/differential_ranking/interaction_model.tsv', \n",
    "                  sep='\\t')"
   ]
  },
  {
   "cell_type": "code",
   "execution_count": null,
   "id": "4ecf1a08-6c55-4921-8db1-a925d6792075",
   "metadata": {},
   "outputs": [],
   "source": []
  },
  {
   "cell_type": "code",
   "execution_count": null,
   "id": "db3def1c-4245-4ef5-9bfc-955c93bba353",
   "metadata": {},
   "outputs": [],
   "source": []
  }
 ],
 "metadata": {
  "kernelspec": {
   "display_name": "Python 3 (ipykernel)",
   "language": "python",
   "name": "python3"
  },
  "language_info": {
   "codemirror_mode": {
    "name": "ipython",
    "version": 3
   },
   "file_extension": ".py",
   "mimetype": "text/x-python",
   "name": "python",
   "nbconvert_exporter": "python",
   "pygments_lexer": "ipython3",
   "version": "3.8.12"
  }
 },
 "nbformat": 4,
 "nbformat_minor": 5
}
