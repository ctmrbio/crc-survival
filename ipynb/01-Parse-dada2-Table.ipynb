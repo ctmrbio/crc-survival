{
 "cells": [
  {
   "cell_type": "markdown",
   "metadata": {},
   "source": [
    "**Author**: Justine Debelius<br>\n",
    "**Date**: Summer/Fall 2021<br>\n",
    "**Conda enviroment**: `micc-2021.11`<br>"
   ]
  },
  {
   "cell_type": "markdown",
   "metadata": {},
   "source": [
    "The goal of this notebook is to document the import and filtering of the MiCC Dada2 table processed through [CTMR Amplicon](https://github.com/ctmrbio/ctmr-amplicon).\n",
    "\n",
    "We'll read in the table generated with DADA2 and Silva 128. The taxonomy gets pulled off, massaged to provide labels and deal with ragged strings. The taxonomy gets filtered to get rid of any feautre which does not at least have the kingdom (bacteria) assigned. \n",
    "\n",
    "The representative sequences get converted into hashed feature IDs (the IDs are an MD5 hash of the sequence and a partial description of the lowest assigned taxonomic level.\n",
    "\n",
    "The whole thing then gets wrapped into a tidy QIIME 2 table, with IDs formatted to matcht he metadata.\n",
    "\n",
    "We'll then filter the table to make sure we only retain samples in the metadata for samples with phylum level annotation."
   ]
  },
  {
   "cell_type": "code",
   "execution_count": 1,
   "metadata": {},
   "outputs": [],
   "source": [
    "import hashlib\n",
    "\n",
    "import biom\n",
    "import pandas as pd\n",
    "import numpy as np\n",
    "import skbio\n",
    "\n",
    "from qiime2 import Artifact, Metadata\n",
    "\n",
    "import qiime2.plugins.feature_table.actions as q2_feature_table\n",
    "import qiime2.plugins.taxa.actions as q2_taxa"
   ]
  },
  {
   "cell_type": "markdown",
   "metadata": {},
   "source": [
    "# Imports data into QIIME 2"
   ]
  },
  {
   "cell_type": "markdown",
   "metadata": {},
   "source": [
    "We start by importing the feature table generated through Dada2."
   ]
  },
  {
   "cell_type": "code",
   "execution_count": 2,
   "metadata": {},
   "outputs": [],
   "source": [
    "dada2_table = pd.read_csv('data/raw_data/DADA2_seqtab_silva128_20191206.tsv',\n",
    "                          sep='\\t',\n",
    "                          dtype=str)"
   ]
  },
  {
   "cell_type": "markdown",
   "metadata": {},
   "source": [
    "I'd like to create a shorter identifier for the taxonomy. For this, I'll add a hashed sequence"
   ]
  },
  {
   "cell_type": "code",
   "execution_count": 3,
   "metadata": {},
   "outputs": [],
   "source": [
    "def hash_seq(x):\n",
    "    return hashlib.md5(x.encode()).hexdigest()\n",
    "dada2_table['hash_seq'] = dada2_table['Sequence'].apply(hash_seq)"
   ]
  },
  {
   "cell_type": "code",
   "execution_count": 4,
   "metadata": {},
   "outputs": [],
   "source": [
    "dada2_table = dada2_table.loc[~dada2_table['Taxonomy'].isin(['Bacteria;'])]"
   ]
  },
  {
   "cell_type": "markdown",
   "metadata": {},
   "source": [
    "For taxonomy, we prefix levels with a greengenes style taxonomic identifier, and then fill empty levels with the previous identifer. Unfortunately, it's hard to determine if the value is missing due to misclassification or because its not defined, but since this is Silva, I suspect undefined is more likely.\n",
    "\n",
    "Then, we'll use the genus level data to get a short label."
   ]
  },
  {
   "cell_type": "code",
   "execution_count": 5,
   "metadata": {},
   "outputs": [],
   "source": [
    "# Parses the taxonomy into a series instead of a semi colon delimited string\n",
    "taxonomy = dada2_table.set_index('hash_seq')['Taxonomy'].apply(\n",
    "    lambda x: pd.Series(x.split(';')))\n",
    "taxonomy.replace({\"\": np.nan}, inplace=True)\n",
    "# Adds prefixes\n",
    "for i, level in enumerate(['k', 'p', 'c', 'o', 'f', 'g', 's']):\n",
    "    taxonomy[i] = taxonomy[i].dropna().apply(lambda x: f'{level}__{x}')\n",
    "# Fills in the missing taxonomy\n",
    "taxonomy.fillna(method='ffill', axis=1, inplace=True)\n",
    "# Truncates taxonomy to get a short label for a hash\n",
    "taxonomy['short'] = taxonomy[5].apply(lambda x: x.split(\"__\")[-1][:4])\n",
    "# Hashes the squence to 7 characters\n",
    "taxonomy['hash_short'] = taxonomy.index.to_frame()['hash_seq'].apply(lambda x: x[:7])\n",
    "# Generates a composite feature id\n",
    "taxonomy['Feature ID'] = taxonomy['short'] + '-' + taxonomy['hash_short']"
   ]
  },
  {
   "cell_type": "code",
   "execution_count": 6,
   "metadata": {},
   "outputs": [
    {
     "data": {
      "text/html": [
       "<div>\n",
       "<style scoped>\n",
       "    .dataframe tbody tr th:only-of-type {\n",
       "        vertical-align: middle;\n",
       "    }\n",
       "\n",
       "    .dataframe tbody tr th {\n",
       "        vertical-align: top;\n",
       "    }\n",
       "\n",
       "    .dataframe thead th {\n",
       "        text-align: right;\n",
       "    }\n",
       "</style>\n",
       "<table border=\"1\" class=\"dataframe\">\n",
       "  <thead>\n",
       "    <tr style=\"text-align: right;\">\n",
       "      <th></th>\n",
       "      <th>#Seq_ID</th>\n",
       "      <th>P001__044_27-6572_MiCC__1177</th>\n",
       "      <th>P002__044_27-6572_MiCC__1178</th>\n",
       "      <th>P003__044_27-6572_MiCC__1179</th>\n",
       "      <th>P004__044_27-6572_MiCC__1180</th>\n",
       "      <th>P005__044_27-6572_MiCC__1181</th>\n",
       "      <th>P006__044_27-6572_MiCC__1182</th>\n",
       "      <th>P007__044_27-6572_MiCC__1183</th>\n",
       "      <th>P008__044_27-6572_MiCC__1184</th>\n",
       "      <th>P009__044_27-6572_MiCC__1185</th>\n",
       "      <th>...</th>\n",
       "      <th>P244__044_27-6608_MiCC__1056</th>\n",
       "      <th>P245__044_27-6608_MiCC__1057</th>\n",
       "      <th>P246__044_27-6608_MiCC__1058</th>\n",
       "      <th>P247__044_27-6608_MiCC__Neg_ex_27-6608</th>\n",
       "      <th>P248__044_27-6608_MiCC__Pos_ex_27-6608</th>\n",
       "      <th>P249__044_27-6608_MiCC__neg_pcr_27-6608</th>\n",
       "      <th>P250__044_27-6608_MiCC__pos_pcr_27-6608</th>\n",
       "      <th>Taxonomy</th>\n",
       "      <th>Sequence</th>\n",
       "      <th>hash_seq</th>\n",
       "    </tr>\n",
       "  </thead>\n",
       "  <tbody>\n",
       "    <tr>\n",
       "      <th>0</th>\n",
       "      <td>Seq_00001</td>\n",
       "      <td>52</td>\n",
       "      <td>415</td>\n",
       "      <td>355</td>\n",
       "      <td>538</td>\n",
       "      <td>226</td>\n",
       "      <td>164</td>\n",
       "      <td>30</td>\n",
       "      <td>3</td>\n",
       "      <td>410</td>\n",
       "      <td>...</td>\n",
       "      <td>0</td>\n",
       "      <td>145</td>\n",
       "      <td>1556</td>\n",
       "      <td>9</td>\n",
       "      <td>5931</td>\n",
       "      <td>24</td>\n",
       "      <td>844</td>\n",
       "      <td>Bacteria;Proteobacteria;Gammaproteobacteria;En...</td>\n",
       "      <td>TGGGGAATATTGCACAATGGGCGCAAGCCTGATGCAGCCATGCCGC...</td>\n",
       "      <td>ffc36e27c82042664a16bcd4d380b286</td>\n",
       "    </tr>\n",
       "    <tr>\n",
       "      <th>1</th>\n",
       "      <td>Seq_00002</td>\n",
       "      <td>1418</td>\n",
       "      <td>0</td>\n",
       "      <td>0</td>\n",
       "      <td>0</td>\n",
       "      <td>0</td>\n",
       "      <td>299</td>\n",
       "      <td>125</td>\n",
       "      <td>9</td>\n",
       "      <td>0</td>\n",
       "      <td>...</td>\n",
       "      <td>0</td>\n",
       "      <td>257</td>\n",
       "      <td>0</td>\n",
       "      <td>0</td>\n",
       "      <td>0</td>\n",
       "      <td>0</td>\n",
       "      <td>0</td>\n",
       "      <td>Bacteria;Bacteroidetes;Bacteroidia;Bacteroidal...</td>\n",
       "      <td>TGAGGAATATTGGTCAATGGGCGATGGCCTGAACCAGCCAAGTAGC...</td>\n",
       "      <td>4abaa483334092f021534a979086baeb</td>\n",
       "    </tr>\n",
       "    <tr>\n",
       "      <th>2</th>\n",
       "      <td>Seq_00003</td>\n",
       "      <td>716</td>\n",
       "      <td>1053</td>\n",
       "      <td>957</td>\n",
       "      <td>0</td>\n",
       "      <td>0</td>\n",
       "      <td>355</td>\n",
       "      <td>759</td>\n",
       "      <td>8</td>\n",
       "      <td>329</td>\n",
       "      <td>...</td>\n",
       "      <td>0</td>\n",
       "      <td>288</td>\n",
       "      <td>0</td>\n",
       "      <td>0</td>\n",
       "      <td>0</td>\n",
       "      <td>0</td>\n",
       "      <td>0</td>\n",
       "      <td>Bacteria;Firmicutes;Clostridia;Clostridiales;R...</td>\n",
       "      <td>TGGGGAATATTGCACAATGGGGGAAACCCTGATGCAGCGACGCCGC...</td>\n",
       "      <td>4516aa60a483dd8c7bbc57098c45f1a5</td>\n",
       "    </tr>\n",
       "    <tr>\n",
       "      <th>3</th>\n",
       "      <td>Seq_00004</td>\n",
       "      <td>0</td>\n",
       "      <td>930</td>\n",
       "      <td>823</td>\n",
       "      <td>0</td>\n",
       "      <td>0</td>\n",
       "      <td>122</td>\n",
       "      <td>264</td>\n",
       "      <td>0</td>\n",
       "      <td>83</td>\n",
       "      <td>...</td>\n",
       "      <td>0</td>\n",
       "      <td>138</td>\n",
       "      <td>0</td>\n",
       "      <td>0</td>\n",
       "      <td>0</td>\n",
       "      <td>0</td>\n",
       "      <td>0</td>\n",
       "      <td>Bacteria;Firmicutes;Clostridia;Clostridiales;R...</td>\n",
       "      <td>TGGGGAATATTGCACAATGGGGGAAACCCTGATGCAGCGACGCCGC...</td>\n",
       "      <td>c728ad6f5d183cb36fa06b6a3a47758b</td>\n",
       "    </tr>\n",
       "    <tr>\n",
       "      <th>4</th>\n",
       "      <td>Seq_00005</td>\n",
       "      <td>32</td>\n",
       "      <td>55</td>\n",
       "      <td>55</td>\n",
       "      <td>1432</td>\n",
       "      <td>251</td>\n",
       "      <td>0</td>\n",
       "      <td>77</td>\n",
       "      <td>0</td>\n",
       "      <td>1192</td>\n",
       "      <td>...</td>\n",
       "      <td>0</td>\n",
       "      <td>315</td>\n",
       "      <td>1170</td>\n",
       "      <td>0</td>\n",
       "      <td>0</td>\n",
       "      <td>3</td>\n",
       "      <td>0</td>\n",
       "      <td>Bacteria;Bacteroidetes;Bacteroidia;Bacteroidal...</td>\n",
       "      <td>TGAGGAATATTGGTCAATGGGCGCTAGCCTGAACCAGCCAAGTAGC...</td>\n",
       "      <td>47f3d645d96038371757074de1d8fb8d</td>\n",
       "    </tr>\n",
       "  </tbody>\n",
       "</table>\n",
       "<p>5 rows × 254 columns</p>\n",
       "</div>"
      ],
      "text/plain": [
       "     #Seq_ID P001__044_27-6572_MiCC__1177 P002__044_27-6572_MiCC__1178  \\\n",
       "0  Seq_00001                           52                          415   \n",
       "1  Seq_00002                         1418                            0   \n",
       "2  Seq_00003                          716                         1053   \n",
       "3  Seq_00004                            0                          930   \n",
       "4  Seq_00005                           32                           55   \n",
       "\n",
       "  P003__044_27-6572_MiCC__1179 P004__044_27-6572_MiCC__1180  \\\n",
       "0                          355                          538   \n",
       "1                            0                            0   \n",
       "2                          957                            0   \n",
       "3                          823                            0   \n",
       "4                           55                         1432   \n",
       "\n",
       "  P005__044_27-6572_MiCC__1181 P006__044_27-6572_MiCC__1182  \\\n",
       "0                          226                          164   \n",
       "1                            0                          299   \n",
       "2                            0                          355   \n",
       "3                            0                          122   \n",
       "4                          251                            0   \n",
       "\n",
       "  P007__044_27-6572_MiCC__1183 P008__044_27-6572_MiCC__1184  \\\n",
       "0                           30                            3   \n",
       "1                          125                            9   \n",
       "2                          759                            8   \n",
       "3                          264                            0   \n",
       "4                           77                            0   \n",
       "\n",
       "  P009__044_27-6572_MiCC__1185  ... P244__044_27-6608_MiCC__1056  \\\n",
       "0                          410  ...                            0   \n",
       "1                            0  ...                            0   \n",
       "2                          329  ...                            0   \n",
       "3                           83  ...                            0   \n",
       "4                         1192  ...                            0   \n",
       "\n",
       "  P245__044_27-6608_MiCC__1057 P246__044_27-6608_MiCC__1058  \\\n",
       "0                          145                         1556   \n",
       "1                          257                            0   \n",
       "2                          288                            0   \n",
       "3                          138                            0   \n",
       "4                          315                         1170   \n",
       "\n",
       "  P247__044_27-6608_MiCC__Neg_ex_27-6608  \\\n",
       "0                                      9   \n",
       "1                                      0   \n",
       "2                                      0   \n",
       "3                                      0   \n",
       "4                                      0   \n",
       "\n",
       "  P248__044_27-6608_MiCC__Pos_ex_27-6608  \\\n",
       "0                                   5931   \n",
       "1                                      0   \n",
       "2                                      0   \n",
       "3                                      0   \n",
       "4                                      0   \n",
       "\n",
       "  P249__044_27-6608_MiCC__neg_pcr_27-6608  \\\n",
       "0                                      24   \n",
       "1                                       0   \n",
       "2                                       0   \n",
       "3                                       0   \n",
       "4                                       3   \n",
       "\n",
       "  P250__044_27-6608_MiCC__pos_pcr_27-6608  \\\n",
       "0                                     844   \n",
       "1                                       0   \n",
       "2                                       0   \n",
       "3                                       0   \n",
       "4                                       0   \n",
       "\n",
       "                                            Taxonomy  \\\n",
       "0  Bacteria;Proteobacteria;Gammaproteobacteria;En...   \n",
       "1  Bacteria;Bacteroidetes;Bacteroidia;Bacteroidal...   \n",
       "2  Bacteria;Firmicutes;Clostridia;Clostridiales;R...   \n",
       "3  Bacteria;Firmicutes;Clostridia;Clostridiales;R...   \n",
       "4  Bacteria;Bacteroidetes;Bacteroidia;Bacteroidal...   \n",
       "\n",
       "                                            Sequence  \\\n",
       "0  TGGGGAATATTGCACAATGGGCGCAAGCCTGATGCAGCCATGCCGC...   \n",
       "1  TGAGGAATATTGGTCAATGGGCGATGGCCTGAACCAGCCAAGTAGC...   \n",
       "2  TGGGGAATATTGCACAATGGGGGAAACCCTGATGCAGCGACGCCGC...   \n",
       "3  TGGGGAATATTGCACAATGGGGGAAACCCTGATGCAGCGACGCCGC...   \n",
       "4  TGAGGAATATTGGTCAATGGGCGCTAGCCTGAACCAGCCAAGTAGC...   \n",
       "\n",
       "                           hash_seq  \n",
       "0  ffc36e27c82042664a16bcd4d380b286  \n",
       "1  4abaa483334092f021534a979086baeb  \n",
       "2  4516aa60a483dd8c7bbc57098c45f1a5  \n",
       "3  c728ad6f5d183cb36fa06b6a3a47758b  \n",
       "4  47f3d645d96038371757074de1d8fb8d  \n",
       "\n",
       "[5 rows x 254 columns]"
      ]
     },
     "execution_count": 6,
     "metadata": {},
     "output_type": "execute_result"
    }
   ],
   "source": [
    "dada2_table.head()"
   ]
  },
  {
   "cell_type": "code",
   "execution_count": 7,
   "metadata": {},
   "outputs": [
    {
     "data": {
      "text/plain": [
       "P001__044_27-6572_MiCC__1177               0.0\n",
       "P159__044_27-6604_MiCC__1093               0.0\n",
       "P160__044_27-6604_MiCC__1094               0.0\n",
       "P161__044_27-6604_MiCC__1095               0.0\n",
       "P162__044_27-6604_MiCC__1096               0.0\n",
       "                                          ... \n",
       "P090__044_27-6576_MiCC__1146               0.0\n",
       "P091__044_27-6576_MiCC__1147               0.0\n",
       "P092__044_27-6576_MiCC__1148               0.0\n",
       "P079__044_27-6576_MiCC__1135               0.0\n",
       "P250__044_27-6608_MiCC__pos_pcr_27-6608    0.0\n",
       "Length: 250, dtype: float64"
      ]
     },
     "execution_count": 7,
     "metadata": {},
     "output_type": "execute_result"
    }
   ],
   "source": [
    "(dada2_table.set_index('hash_seq').loc[taxonomy[1].apply(lambda x: 'k__' in x)].drop(\n",
    "    columns=['#Seq_ID', 'Taxonomy', 'Sequence']).astype(float) > 0).sum(axis=0).sort_values()"
   ]
  },
  {
   "cell_type": "markdown",
   "metadata": {},
   "source": [
    "And then, we'll import the data into QIIME 2"
   ]
  },
  {
   "cell_type": "code",
   "execution_count": 8,
   "metadata": {},
   "outputs": [
    {
     "data": {
      "text/plain": [
       "'data/tables/taxonomy.qza'"
      ]
     },
     "execution_count": 8,
     "metadata": {},
     "output_type": "execute_result"
    }
   ],
   "source": [
    "taxa_for_qiime = taxonomy.copy().set_index('Feature ID').drop(columns=['short', 'hash_short'])\n",
    "taxa_for_qiime = taxa_for_qiime.apply(lambda x: ';'.join(x), axis=1)\n",
    "taxa_for_qiime.name = 'Taxon'\n",
    "taxa_q2 = Artifact.import_data('FeatureData[Taxonomy]', taxa_for_qiime, pd.Series)\n",
    "taxa_q2.save('data/tables/taxonomy.qza')"
   ]
  },
  {
   "cell_type": "markdown",
   "metadata": {},
   "source": [
    "The table gets updated with the short taxonomy name, andd we'll pull out the sequences"
   ]
  },
  {
   "cell_type": "code",
   "execution_count": 9,
   "metadata": {},
   "outputs": [],
   "source": [
    "dada2_table['short_name'] = \\\n",
    "    dada2_table['hash_seq'].replace(taxonomy['Feature ID'].to_dict())\n",
    "dada2_table.set_index('short_name', inplace=True)\n"
   ]
  },
  {
   "cell_type": "code",
   "execution_count": 10,
   "metadata": {},
   "outputs": [
    {
     "data": {
      "text/plain": [
       "'data/tables/rep_seqs.qza'"
      ]
     },
     "execution_count": 10,
     "metadata": {},
     "output_type": "execute_result"
    }
   ],
   "source": [
    "rep_seqs = pd.Series({\n",
    "    id_: skbio.DNA(seq, metadata={'id': id_})\n",
    "    for id_, seq in dada2_table['Sequence'].items()\n",
    "})\n",
    "rep_seqs_q2 = Artifact.import_data('FeatureData[Sequence]', rep_seqs, pd.Series)\n",
    "rep_seqs_q2.save('data/tables/rep_seqs.qza')"
   ]
  },
  {
   "cell_type": "markdown",
   "metadata": {},
   "source": [
    "Finally, we'll pull together the dada2 table. We'll drop metadata from the table (Taxonomy, Sequence, hash) and then rename th columns to match the format from the metadata."
   ]
  },
  {
   "cell_type": "code",
   "execution_count": 11,
   "metadata": {},
   "outputs": [],
   "source": [
    "dada2_table.drop(columns=['#Seq_ID', 'Taxonomy', 'Sequence', 'hash_seq'],\n",
    "                 inplace=True)\n",
    "dada2_table.index.set_names('feature-id', inplace=True)\n",
    "dada2_table.rename(\n",
    "    columns={c: c.split(\"__\")[-1] for c in dada2_table.columns},\n",
    "    inplace=True\n",
    ")"
   ]
  },
  {
   "cell_type": "code",
   "execution_count": 12,
   "metadata": {},
   "outputs": [
    {
     "data": {
      "text/plain": [
       "'data/tables/table.qza'"
      ]
     },
     "execution_count": 12,
     "metadata": {},
     "output_type": "execute_result"
    }
   ],
   "source": [
    "dada2_table = dada2_table.T\n",
    "dada2_table.index.set_names('sample-id', inplace=True)\n",
    "table_q2 = Artifact.import_data('FeatureTable[Frequency]', dada2_table, pd.DataFrame)\n",
    "table_q2.save('data/tables/table.qza')"
   ]
  },
  {
   "cell_type": "markdown",
   "metadata": {},
   "source": [
    "# Filter to a working table"
   ]
  },
  {
   "cell_type": "markdown",
   "metadata": {},
   "source": [
    "We read in the provided metadata. Note that this is slightly modified form the ENA metadata, and contains only the variables needed for working analysis."
   ]
  },
  {
   "cell_type": "code",
   "execution_count": 14,
   "metadata": {},
   "outputs": [],
   "source": [
    "meta = pd.read_csv('data/metadata_paired.tsv', sep='\\t', dtype=str)\n",
    "meta.set_index('sample-id', inplace=True)\n",
    "# Drops and ENA column which conflicts with the qiime2 name space\n",
    "meta.drop(columns=['sample_name'], inplace=True)\n",
    "meta_q2 = Metadata(meta)"
   ]
  },
  {
   "cell_type": "markdown",
   "metadata": {},
   "source": [
    "We filter the table based on the metadata so we have the correct set of samples."
   ]
  },
  {
   "cell_type": "code",
   "execution_count": 15,
   "metadata": {},
   "outputs": [],
   "source": [
    "paired_table = q2_feature_table.filter_samples(\n",
    "    table=table_q2, \n",
    "    metadata=meta_q2\n",
    ").filtered_table"
   ]
  },
  {
   "cell_type": "markdown",
   "metadata": {},
   "source": [
    "Then filters to retain only features that have a phylum level assignment"
   ]
  },
  {
   "cell_type": "code",
   "execution_count": 16,
   "metadata": {},
   "outputs": [],
   "source": [
    "phylum_def = q2_taxa.filter_table(\n",
    "    table=paired_table, \n",
    "    taxonomy=taxa_q2, \n",
    "    include=\"p__\",\n",
    "    mode='contains'\n",
    ").filtered_table"
   ]
  },
  {
   "cell_type": "markdown",
   "metadata": {},
   "source": [
    "And drops out non-zero features incase they're still present."
   ]
  },
  {
   "cell_type": "code",
   "execution_count": 17,
   "metadata": {},
   "outputs": [],
   "source": [
    "paired_nonzero = q2_feature_table.filter_features(\n",
    "    table=phylum_def,\n",
    "    min_samples=1,\n",
    "    min_frequency=1,\n",
    ").filtered_table"
   ]
  },
  {
   "cell_type": "code",
   "execution_count": 18,
   "metadata": {},
   "outputs": [
    {
     "data": {
      "text/plain": [
       "'data/tables/phylum_defined_table.qza'"
      ]
     },
     "execution_count": 18,
     "metadata": {},
     "output_type": "execute_result"
    }
   ],
   "source": [
    "paired_nonzero.save('data/tables/phylum_defined_table.qza')"
   ]
  },
  {
   "cell_type": "markdown",
   "metadata": {},
   "source": [
    "And then, I'd like a matching gorup of representative sequences."
   ]
  },
  {
   "cell_type": "code",
   "execution_count": 20,
   "metadata": {},
   "outputs": [
    {
     "data": {
      "text/plain": [
       "'data/tables/phylum_defined_rep_seqs.qza'"
      ]
     },
     "execution_count": 20,
     "metadata": {},
     "output_type": "execute_result"
    }
   ],
   "source": [
    "paired_seqs = q2_feature_table.filter_seqs(\n",
    "    data=rep_seqs_q2, \n",
    "    table=paired_nonzero\n",
    ").filtered_data\n",
    "paired_seqs.save('data/tables/phylum_defined_rep_seqs.qza')"
   ]
  },
  {
   "cell_type": "markdown",
   "metadata": {},
   "source": [
    "And now we have a feature table and representative sequences imported into QIIME 2 and ready for analysis."
   ]
  }
 ],
 "metadata": {
  "kernelspec": {
   "display_name": "Python 3 (ipykernel)",
   "language": "python",
   "name": "python3"
  },
  "language_info": {
   "codemirror_mode": {
    "name": "ipython",
    "version": 3
   },
   "file_extension": ".py",
   "mimetype": "text/x-python",
   "name": "python",
   "nbconvert_exporter": "python",
   "pygments_lexer": "ipython3",
   "version": "3.8.12"
  }
 },
 "nbformat": 4,
 "nbformat_minor": 4
}
