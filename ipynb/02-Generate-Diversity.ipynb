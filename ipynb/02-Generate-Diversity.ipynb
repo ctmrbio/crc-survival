{
 "cells": [
  {
   "cell_type": "markdown",
   "metadata": {},
   "source": [
    "**Author**: Justine Debelius (justine.debelius@ki.se)<br>\n",
    "**Date**: Summer/Fall 2021<br>\n",
    "**Conda enviroment**: `micc-2021.11`<br>\n",
    "**Python version**: 3.6.10<br>\n",
    "**Python packages**: `pystan` (v. 2.19); `patsy` (0.5.1); <br>\n",
    "**QIIME 2 version**: 2020.6<br>\n",
    "**QIIME 2 plugins**: `gemeilli` (v. 0.0.7); `deicode` (v. 0.2.4)'; `empress` (v 1.1.0.dev); `songbird` (v. 1.0.4)<br>\n",
    "\n",
    "This notebook will build a feature phylogenetic tree and calculate alpha and beta diversity."
   ]
  },
  {
   "cell_type": "markdown",
   "metadata": {},
   "source": [
    "We start by building an insertion tree to allow for UniFrac distance."
   ]
  },
  {
   "cell_type": "code",
   "execution_count": 1,
   "metadata": {
    "tags": []
   },
   "outputs": [],
   "source": [
    "mkdir -p data/tree/\n",
    "qiime fragment-insertion sepp \\\n",
    " --i-representative-sequences data/tables/rep_seqs.qza \\\n",
    " --i-reference-database ../ipynb_clean-2020.6/data/reference/sepp-refs-silva-128.qza \\\n",
    " --p-threads 4 \\\n",
    " --o-tree data/tree/tree_silva128.qza \\\n",
    " --o-placements data/tree/placements_silva128.qza"
   ]
  },
  {
   "cell_type": "markdown",
   "metadata": {},
   "source": [
    "And then, we'll filter the table to drop anything that didn'it insert into the tree."
   ]
  },
  {
   "cell_type": "code",
   "execution_count": 2,
   "metadata": {},
   "outputs": [
    {
     "name": "stdout",
     "output_type": "stream",
     "text": [
      "\u001b[32mSaved FeatureTable[Frequency] to: data/tables/phylum_defined_table.qza\u001b[0m\n",
      "\u001b[0m"
     ]
    }
   ],
   "source": [
    "qiime phylogeny filter-table \\\n",
    " --i-table data/tables/phylum_defined_table.qza \\\n",
    " --i-tree data/tree/tree_silva128.qza \\\n",
    " --o-filtered-table data/tables/phylum_defined_table.qza"
   ]
  },
  {
   "cell_type": "markdown",
   "metadata": {},
   "source": [
    "Then, we'll rarefy the data to 2500 sequences/sample (to match the shallowest sample at 2500 sequences/sample)"
   ]
  },
  {
   "cell_type": "code",
   "execution_count": 3,
   "metadata": {},
   "outputs": [
    {
     "name": "stdout",
     "output_type": "stream",
     "text": [
      "\u001b[32mSaved FeatureTable[Frequency] to: data/tables/dada2_2500.qza\u001b[0m\n",
      "\u001b[0m"
     ]
    }
   ],
   "source": [
    "qiime feature-table rarefy \\\n",
    " --i-table data/tables/phylum_defined_table.qza \\\n",
    " --p-sampling-depth 2500 \\\n",
    " --o-rarefied-table data/tables/dada2_2500.qza"
   ]
  },
  {
   "cell_type": "markdown",
   "metadata": {},
   "source": [
    "For alpha diversity, we'll look at observed features, shannon diversity, and simpson's evenness."
   ]
  },
  {
   "cell_type": "code",
   "execution_count": 4,
   "metadata": {},
   "outputs": [
    {
     "name": "stdout",
     "output_type": "stream",
     "text": [
      "\u001b[32mSaved SampleData[AlphaDiversity] to: data/diversity/alpha/observed_features.qza\u001b[0m\n",
      "\u001b[0m\u001b[32mSaved SampleData[AlphaDiversity] to: data/diversity/alpha/shannon.qza\u001b[0m\n",
      "\u001b[0m\u001b[32mSaved SampleData[AlphaDiversity] to: data/diversity/alpha/simpson.qza\u001b[0m\n",
      "\u001b[0m"
     ]
    }
   ],
   "source": [
    "mkdir -p data/diversity/alpha\n",
    "\n",
    "qiime diversity alpha \\\n",
    " --i-table data/tables/dada2_2500.qza \\\n",
    " --p-metric observed_features \\\n",
    " --o-alpha-diversity data/diversity/alpha/observed_features.qza\n",
    " \n",
    "qiime diversity alpha \\\n",
    " --i-table data/tables/dada2_2500.qza \\\n",
    " --p-metric shannon \\\n",
    " --o-alpha-diversity data/diversity/alpha/shannon.qza\n",
    " \n",
    "qiime diversity alpha \\\n",
    " --i-table data/tables/dada2_2500.qza \\\n",
    " --p-metric simpson \\\n",
    " --o-alpha-diversity data/diversity/alpha/simpson.qza"
   ]
  },
  {
   "cell_type": "markdown",
   "metadata": {},
   "source": [
    "And then, we'll look at the rarefied distance matrices. Bray Curtis and Jaccard are non-phylogenetic; UniFrac metrics account for shared evolutionary history."
   ]
  },
  {
   "cell_type": "code",
   "execution_count": 5,
   "metadata": {},
   "outputs": [
    {
     "name": "stdout",
     "output_type": "stream",
     "text": [
      "\u001b[32mSaved DistanceMatrix to: data/diversity/beta/braycurtis.qza\u001b[0m\n",
      "\u001b[0m\u001b[32mSaved DistanceMatrix to: data/diversity/beta/jaccard.qza\u001b[0m\n",
      "\u001b[0m\u001b[32mSaved DistanceMatrix to: data/diversity/beta/unweighted-unifrac.qza\u001b[0m\n",
      "\u001b[0m\u001b[32mSaved DistanceMatrix to: data/diversity/beta/weighted-unifrac.qza\u001b[0m\n",
      "\u001b[0m"
     ]
    }
   ],
   "source": [
    "mkdir -p data/diversity/beta\n",
    "\n",
    "qiime diversity beta \\\n",
    " --i-table data/tables/dada2_2500.qza \\\n",
    " --p-metric braycurtis \\\n",
    " --o-distance-matrix data/diversity/beta/braycurtis.qza\n",
    "\n",
    "qiime diversity beta \\\n",
    "--i-table data/tables/dada2_2500.qza \\\n",
    " --p-metric jaccard \\\n",
    " --o-distance-matrix data/diversity/beta/jaccard.qza\n",
    "\n",
    "qiime diversity beta-phylogenetic \\\n",
    "--i-table data/tables/dada2_2500.qza \\\n",
    " --i-phylogeny data/tree/tree_silva128.qza \\\n",
    " --p-metric unweighted_unifrac \\\n",
    " --o-distance-matrix data/diversity/beta/unweighted-unifrac.qza \\\n",
    " --verbose\n",
    " \n",
    "qiime diversity beta-phylogenetic \\\n",
    " --i-table data/tables/dada2_2500.qza \\\n",
    " --i-phylogeny data/tree/tree_silva128.qza \\\n",
    " --p-metric weighted_unifrac \\\n",
    " --o-distance-matrix data/diversity/beta/weighted-unifrac.qza"
   ]
  },
  {
   "cell_type": "markdown",
   "metadata": {},
   "source": [
    "I'd also like to use Aitchison distanne, a non-phylogenetic metric "
   ]
  },
  {
   "cell_type": "code",
   "execution_count": 6,
   "metadata": {},
   "outputs": [
    {
     "name": "stdout",
     "output_type": "stream",
     "text": [
      "\u001b[32mSaved DistanceMatrix to: data/diversity/beta/aitchison.qza\u001b[0m\n",
      "\u001b[0m"
     ]
    }
   ],
   "source": [
    "qiime diversity beta \\\n",
    " --i-table data/tables/phylum_defined_table.qza \\\n",
    " --p-metric aitchison \\\n",
    " --p-pseudocount 1 \\\n",
    " --o-distance-matrix data/diversity/beta/aitchison.qza\n"
   ]
  },
  {
   "cell_type": "code",
   "execution_count": 7,
   "metadata": {},
   "outputs": [
    {
     "name": "stdout",
     "output_type": "stream",
     "text": [
      "\u001b[32mSaved FeatureTable[Frequency] to: data/tables/abundant_table.qza\u001b[0m\n",
      "\u001b[0m"
     ]
    }
   ],
   "source": [
    "qiime feature-table filter-features \\\n",
    " --i-table data/tables/phylum_defined_table.qza \\\n",
    " --p-min-frequency 100 \\\n",
    " --p-min-samples 20 \\\n",
    " --o-filtered-table data/tables/abundant_table.qza "
   ]
  },
  {
   "cell_type": "code",
   "execution_count": 8,
   "metadata": {},
   "outputs": [
    {
     "name": "stdout",
     "output_type": "stream",
     "text": [
      "\u001b[32mSaved PCoAResults % Properties('biplot') to: data/diversity/ctf/subject_biplot.qza\u001b[0m\n",
      "\u001b[32mSaved PCoAResults % Properties('biplot') to: data/diversity/ctf/state_biplot.qza\u001b[0m\n",
      "\u001b[32mSaved DistanceMatrix to: data/diversity/ctf/distance_matrix.qza\u001b[0m\n",
      "\u001b[32mSaved SampleData[SampleTrajectory] to: data/diversity/ctf/state_subject_ordination.qza\u001b[0m\n",
      "\u001b[32mSaved FeatureData[FeatureTrajectory] to: data/diversity/ctf/state_feature_ordination.qza\u001b[0m\n",
      "\u001b[0m"
     ]
    }
   ],
   "source": [
    "rm -r data/diversity/ctf\n",
    "qiime gemelli ctf \\\n",
    " --i-table data/tables/abundant_table.qza \\\n",
    " --m-sample-metadata-file data/metadata_paired.tsv \\\n",
    " --p-individual-id-column 'host_subject_id' \\\n",
    " --p-state-column 'tissue_num' \\\n",
    " --p-min-feature-count 50 \\\n",
    " --output-dir data/diversity/ctf \\\n",
    " --verbose"
   ]
  },
  {
   "cell_type": "code",
   "execution_count": 9,
   "metadata": {},
   "outputs": [
    {
     "name": "stdout",
     "output_type": "stream",
     "text": [
      "\u001b[32mSaved DistanceMatrix to: data/diversity/beta/unweighted-unifrac.qza\u001b[0m\n",
      "\u001b[0m"
     ]
    }
   ],
   "source": [
    "\n",
    "qiime diversity beta-phylogenetic \\\n",
    "--i-table data/tables/dada2_2500.qza \\\n",
    " --i-phylogeny data/tree/tree_silva128.qza \\\n",
    " --p-metric unweighted_unifrac \\\n",
    " --o-distance-matrix data/diversity/beta/unweighted-unifrac.qza \\\n",
    " --verbose\n",
    " \n"
   ]
  },
  {
   "cell_type": "code",
   "execution_count": 10,
   "metadata": {},
   "outputs": [
    {
     "name": "stdout",
     "output_type": "stream",
     "text": [
      "\u001b[32mSaved DistanceMatrix to: data/diversity/beta/weighted-unifrac.qza\u001b[0m\n",
      "\u001b[0m"
     ]
    }
   ],
   "source": [
    "qiime diversity beta-phylogenetic \\\n",
    " --i-table data/tables/dada2_2500.qza \\\n",
    " --i-phylogeny data/tree/tree_silva128.qza \\\n",
    " --p-metric weighted_unifrac \\\n",
    " --o-distance-matrix data/diversity/beta/weighted-unifrac.qza"
   ]
  }
 ],
 "metadata": {
  "kernelspec": {
   "display_name": "Bash",
   "language": "bash",
   "name": "bash"
  },
  "language_info": {
   "codemirror_mode": "shell",
   "file_extension": ".sh",
   "mimetype": "text/x-sh",
   "name": "bash"
  }
 },
 "nbformat": 4,
 "nbformat_minor": 4
}
