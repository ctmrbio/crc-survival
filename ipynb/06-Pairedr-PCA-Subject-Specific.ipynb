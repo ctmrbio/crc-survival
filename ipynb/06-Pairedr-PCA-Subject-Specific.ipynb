{
 "cells": [
  {
   "cell_type": "markdown",
   "metadata": {},
   "source": [
    "**Author**: Justine Debelius (justine.debelius@ki.se)<br>\n",
    "**Date**: Summer/Fall 2021<br>\n",
    "**Conda enviroment**: `micc-2020.6`<br>\n",
    "**Python version**: 3.6.10<br>\n",
    "**Python packages**: `pystan` (v. 2.19); `patsy` (0.5.1); <br>\n",
    "**QIIME 2 version**: 2020.6<br>\n",
    "**QIIME 2 plugins**: `gemeilli` (v. 0.0.7); `deicode` (v. 0.2.4)'; `empress` (v 1.1.0.dev); `songbird` (v. 1.0.4)<br>\n"
   ]
  },
  {
   "cell_type": "markdown",
   "metadata": {},
   "source": []
  },
  {
   "cell_type": "markdown",
   "metadata": {},
   "source": [
    "# Notebook set up"
   ]
  },
  {
   "cell_type": "code",
   "execution_count": 1,
   "metadata": {},
   "outputs": [],
   "source": [
    "import itertools as it\n",
    "import os\n",
    "\n",
    "import biom\n",
    "from matplotlib import rcParams\n",
    "from matplotlib.ticker import StrMethodFormatter\n",
    "import matplotlib.image as mpimg\n",
    "import matplotlib.pyplot as plt\n",
    "import numpy as np\n",
    "import openpyxl\n",
    "import pandas as pd\n",
    "import patsy\n",
    "import scipy\n",
    "import skbio\n",
    "import statsmodels.api as sms\n",
    "import statsmodels.formula.api as smf\n",
    "import seaborn as sn\n",
    "\n",
    "from qiime2 import Artifact, Metadata, Visualization\n",
    "\n",
    "import qiime2.plugins.diversity.actions as q2_diversity\n",
    "import qiime2.plugins.deicode.actions as q2_deicode\n",
    "import qiime2.plugins.emperor.actions as q2_emperor\n",
    "import qiime2.plugins.feature_table.actions as q2_feature_table\n",
    "import qiime2.plugins.gemelli.actions as q2_gemelli\n",
    "\n",
    "import scripts.tax_colors as tax_colors\n",
    "\n",
    "rcParams['font.sans-serif'] = ['Helvetica', 'Arial']\n",
    "rcParams['pdf.fonttype'] = 42\n",
    "rcParams['pdf.use14corefonts'] = True\n",
    "np.set_printoptions(precision=5)\n",
    "\n",
    "%matplotlib inline"
   ]
  },
  {
   "cell_type": "markdown",
   "metadata": {},
   "source": [
    "We'll start by loading the metadata and feature table, and taxonomy using consistent annotation and add in some alpha diversity information."
   ]
  },
  {
   "cell_type": "code",
   "execution_count": 2,
   "metadata": {},
   "outputs": [],
   "source": [
    "meta_q2 = Metadata.load('data/metadata_paired.tsv')\n",
    "meta = meta_q2.to_dataframe()"
   ]
  },
  {
   "cell_type": "code",
   "execution_count": 3,
   "metadata": {},
   "outputs": [
    {
     "data": {
      "text/plain": [
       "(202, 16)"
      ]
     },
     "execution_count": 3,
     "metadata": {},
     "output_type": "execute_result"
    }
   ],
   "source": [
    "meta.shape"
   ]
  },
  {
   "cell_type": "code",
   "execution_count": 4,
   "metadata": {},
   "outputs": [],
   "source": [
    "table_q2 = Artifact.load('data/tables/phylum_defined_table.qza')\n",
    "table_q2 = q2_feature_table.filter_features(\n",
    "    table=table_q2,\n",
    "     min_frequency=100, \n",
    "     min_samples=20,\n",
    ").filtered_table"
   ]
  },
  {
   "cell_type": "code",
   "execution_count": 5,
   "metadata": {},
   "outputs": [
    {
     "data": {
      "text/plain": [
       "(486, 202)"
      ]
     },
     "execution_count": 5,
     "metadata": {},
     "output_type": "execute_result"
    }
   ],
   "source": [
    "table_q2.view(biom.Table).shape"
   ]
  },
  {
   "cell_type": "code",
   "execution_count": 6,
   "metadata": {},
   "outputs": [],
   "source": [
    "taxa_q2 = Artifact.load('data/tables/taxonomy.qza')\n",
    "taxa = taxa_q2.view(pd.Series).apply(lambda x: pd.Series(x.split(';')))\n",
    "taxa = taxa.loc[list(table_q2.view(biom.Table).ids(axis='observation'))]\n",
    "taxa.rename(columns={0: 'kingdom', 1: 'phylum', 2: 'class', 3: 'order',\n",
    "                     4: 'family', 5: 'genus', 6: 'species'}, \n",
    "            inplace=True)\n",
    "taxa['color_group'] = \\\n",
    "    taxa['family'].apply(lambda x: tax_colors.remappings.get(x, 'Other'))\n",
    "taxa.loc[taxa['family'] == 'f__Family_XI', 'color_group'] = \\\n",
    "    taxa.loc[taxa['family'] == 'f__Family_XI', 'class']\n",
    "\n",
    "taxa_meta = Metadata(taxa)"
   ]
  },
  {
   "cell_type": "markdown",
   "metadata": {},
   "source": [
    "We use compositional tensor factorization to generate an ordination that accounts for the intra-individual similarity."
   ]
  },
  {
   "cell_type": "code",
   "execution_count": 7,
   "metadata": {},
   "outputs": [],
   "source": [
    "subject_biplot = Artifact.load('data/diversity/ctf/subject_biplot.qza')"
   ]
  },
  {
   "cell_type": "code",
   "execution_count": 8,
   "metadata": {},
   "outputs": [
    {
     "data": {
      "text/html": [
       "<div>\n",
       "<style scoped>\n",
       "    .dataframe tbody tr th:only-of-type {\n",
       "        vertical-align: middle;\n",
       "    }\n",
       "\n",
       "    .dataframe tbody tr th {\n",
       "        vertical-align: top;\n",
       "    }\n",
       "\n",
       "    .dataframe thead th {\n",
       "        text-align: right;\n",
       "    }\n",
       "</style>\n",
       "<table border=\"1\" class=\"dataframe\">\n",
       "  <thead>\n",
       "    <tr style=\"text-align: right;\">\n",
       "      <th></th>\n",
       "      <th>0</th>\n",
       "      <th>1</th>\n",
       "      <th>2</th>\n",
       "    </tr>\n",
       "  </thead>\n",
       "  <tbody>\n",
       "    <tr>\n",
       "      <th>145</th>\n",
       "      <td>-0.261228</td>\n",
       "      <td>0.228576</td>\n",
       "      <td>0.032947</td>\n",
       "    </tr>\n",
       "    <tr>\n",
       "      <th>148</th>\n",
       "      <td>-0.297061</td>\n",
       "      <td>0.113645</td>\n",
       "      <td>-0.049194</td>\n",
       "    </tr>\n",
       "    <tr>\n",
       "      <th>150</th>\n",
       "      <td>-0.216561</td>\n",
       "      <td>0.136774</td>\n",
       "      <td>-0.056513</td>\n",
       "    </tr>\n",
       "    <tr>\n",
       "      <th>152</th>\n",
       "      <td>-0.142479</td>\n",
       "      <td>0.035552</td>\n",
       "      <td>0.055491</td>\n",
       "    </tr>\n",
       "    <tr>\n",
       "      <th>160</th>\n",
       "      <td>-0.183122</td>\n",
       "      <td>0.057797</td>\n",
       "      <td>-0.024805</td>\n",
       "    </tr>\n",
       "    <tr>\n",
       "      <th>...</th>\n",
       "      <td>...</td>\n",
       "      <td>...</td>\n",
       "      <td>...</td>\n",
       "    </tr>\n",
       "    <tr>\n",
       "      <th>507</th>\n",
       "      <td>0.157904</td>\n",
       "      <td>-0.069043</td>\n",
       "      <td>-0.043466</td>\n",
       "    </tr>\n",
       "    <tr>\n",
       "      <th>512</th>\n",
       "      <td>0.171006</td>\n",
       "      <td>0.019780</td>\n",
       "      <td>-0.118424</td>\n",
       "    </tr>\n",
       "    <tr>\n",
       "      <th>540</th>\n",
       "      <td>0.122727</td>\n",
       "      <td>0.151222</td>\n",
       "      <td>-0.233426</td>\n",
       "    </tr>\n",
       "    <tr>\n",
       "      <th>73</th>\n",
       "      <td>0.190900</td>\n",
       "      <td>0.130589</td>\n",
       "      <td>-0.209123</td>\n",
       "    </tr>\n",
       "    <tr>\n",
       "      <th>95</th>\n",
       "      <td>0.224433</td>\n",
       "      <td>-0.038885</td>\n",
       "      <td>-0.285456</td>\n",
       "    </tr>\n",
       "  </tbody>\n",
       "</table>\n",
       "<p>101 rows × 3 columns</p>\n",
       "</div>"
      ],
      "text/plain": [
       "            0         1         2\n",
       "145 -0.261228  0.228576  0.032947\n",
       "148 -0.297061  0.113645 -0.049194\n",
       "150 -0.216561  0.136774 -0.056513\n",
       "152 -0.142479  0.035552  0.055491\n",
       "160 -0.183122  0.057797 -0.024805\n",
       "..        ...       ...       ...\n",
       "507  0.157904 -0.069043 -0.043466\n",
       "512  0.171006  0.019780 -0.118424\n",
       "540  0.122727  0.151222 -0.233426\n",
       "73   0.190900  0.130589 -0.209123\n",
       "95   0.224433 -0.038885 -0.285456\n",
       "\n",
       "[101 rows x 3 columns]"
      ]
     },
     "execution_count": 8,
     "metadata": {},
     "output_type": "execute_result"
    }
   ],
   "source": [
    "subject_biplot.view(skbio.OrdinationResults).samples"
   ]
  },
  {
   "cell_type": "markdown",
   "metadata": {},
   "source": [
    "To visualize the ordination, we need a subject metadata file. And then, we can throw this into an emperor plot."
   ]
  },
  {
   "cell_type": "code",
   "execution_count": 9,
   "metadata": {},
   "outputs": [],
   "source": [
    "# Builds subject metadata\n",
    "subject_meta = meta.sort_values(['host_subject_id', 'tissue_type']).copy()\n",
    "subject_meta.drop_duplicates(['host_subject_id'], inplace=True)\n",
    "subject_meta.drop(columns=['tissue_type', 'depth'], inplace=True)\n",
    "subject_meta.set_index('host_subject_id', inplace=True)\n",
    "subject_meta.index.set_names('id', inplace=True)\n",
    "subject_meta.drop(columns=['tissue_num'], inplace=True)\n",
    "subject_meta_q2 = Metadata(subject_meta)"
   ]
  },
  {
   "cell_type": "code",
   "execution_count": 11,
   "metadata": {},
   "outputs": [
    {
     "data": {
      "text/plain": [
       "'output/file_s1_subject_ctf_biplot.qzv'"
      ]
     },
     "execution_count": 11,
     "metadata": {},
     "output_type": "execute_result"
    }
   ],
   "source": [
    "# Buildds ordination\n",
    "ordination = q2_emperor.biplot(\n",
    "    subject_biplot,\n",
    "    sample_metadata=subject_meta_q2,\n",
    "    feature_metadata=taxa_meta,\n",
    "    number_of_features=10,\n",
    ").visualization\n",
    "ordination.save('output/file_s1_subject_ctf_biplot.qzv')"
   ]
  },
  {
   "cell_type": "markdown",
   "metadata": {},
   "source": [
    "# Statitics\n",
    "And then we'll extracct the sample coordinates so we can do statitics. I want to start with permanova on the distance between subjects.\n",
    "\n",
    "We'll start by verifying the per-subject coordinates match back if we calculate distance from the PCA. (They do.) Then, we calculate an unadjusted permanova, covert the pseudo F to an $R^{2}$ and save that as a table."
   ]
  },
  {
   "cell_type": "code",
   "execution_count": 13,
   "metadata": {},
   "outputs": [],
   "source": [
    "sample_pos = subject_biplot.view(skbio.OrdinationResults).samples\n",
    "sample_dis = skbio.DistanceMatrix.from_iterable(\n",
    "    iterable=sample_pos.values,\n",
    "    metric=scipy.spatial.distance.euclidean,\n",
    "    keys=sample_pos.index.values\n",
    ")\n",
    "sample_dis_q2 = Artifact.import_data('DistanceMatrix', sample_dis)"
   ]
  },
  {
   "cell_type": "code",
   "execution_count": 14,
   "metadata": {},
   "outputs": [
    {
     "data": {
      "text/plain": [
       "(101, 101)"
      ]
     },
     "execution_count": 14,
     "metadata": {},
     "output_type": "execute_result"
    }
   ],
   "source": [
    "sample_dis.shape"
   ]
  },
  {
   "cell_type": "code",
   "execution_count": 15,
   "metadata": {},
   "outputs": [],
   "source": [
    "sample_dis_pcoa = skbio.stats.ordination.pcoa(sample_dis)"
   ]
  },
  {
   "cell_type": "code",
   "execution_count": 16,
   "metadata": {},
   "outputs": [
    {
     "data": {
      "text/plain": [
       "4.461595038666052e-31"
      ]
     },
     "execution_count": 16,
     "metadata": {},
     "output_type": "execute_result"
    }
   ],
   "source": [
    "old_, new_, m2 = scipy.spatial.procrustes(sample_dis_pcoa.samples.loc[sample_pos.index, ['PC1', 'PC2', 'PC3']],\n",
    "                         sample_pos.values\n",
    "                         )\n",
    "m2"
   ]
  },
  {
   "cell_type": "code",
   "execution_count": 35,
   "metadata": {},
   "outputs": [],
   "source": [
    "np.random.seed(1234)\n",
    "subject_permanova = pd.DataFrame({\n",
    "    col: skbio.stats.distance.permanova(sample_dis, subject_meta[col])\n",
    "    for col in subject_meta_q2.columns.keys() if col not in {'project_name'}\n",
    "}).T\n",
    "\n",
    "subject_permanova['R2'] = \\\n",
    "    1 - 1 / (1 + subject_permanova['test statistic'] * \n",
    "         (subject_permanova['number of groups'] - 1)  / \n",
    "          subject_permanova[['number of groups', 'sample size']].diff(axis=1).values[:, 1]\n",
    "     )\n",
    "subject_permanova = subject_permanova.loc[\n",
    "    ['age_cat', 'sex', 'asa_cat', 'pre_op_treatment',\n",
    "     'ana_location', 'stage_tnm', 'differentiation_grade', \n",
    "     'surgery_year', 'radical_surgery', 'long_survival',\n",
    "    ]]\n",
    "subject_permanova['p-adj'] = \\\n",
    "    sms.stats.multipletests(subject_permanova['p-value'], method='fdr_bh')[1]"
   ]
  },
  {
   "cell_type": "code",
   "execution_count": 46,
   "metadata": {},
   "outputs": [
    {
     "data": {
      "text/plain": [
       "age_cat                   3.83%\n",
       "sex                       1.10%\n",
       "asa_cat                   2.53%\n",
       "pre_op_treatment          1.36%\n",
       "ana_location              3.70%\n",
       "stage_tnm                 1.95%\n",
       "differentiation_grade     0.52%\n",
       "surgery_year             17.57%\n",
       "radical_surgery           1.04%\n",
       "long_survival             1.24%\n",
       "Name: R2, dtype: object"
      ]
     },
     "execution_count": 46,
     "metadata": {},
     "output_type": "execute_result"
    }
   ],
   "source": [
    "subject_permanova['R2'].apply(lambda x: f'{x:1.2%}')"
   ]
  },
  {
   "cell_type": "code",
   "execution_count": 41,
   "metadata": {},
   "outputs": [],
   "source": [
    "table_s3 = subject_permanova[['R2', 'p-value', 'p-adj']].astype(float).round(3)\n",
    "table_s3 = table_s3.loc[['age_cat', 'sex', 'asa_cat', 'pre_op_treatment',\n",
    "                         'ana_location', 'stage_tnm', 'differentiation_grade', \n",
    "                         'surgery_year', 'radical_surgery',\n",
    "                         'long_survival',\n",
    "                        ]]"
   ]
  },
  {
   "cell_type": "code",
   "execution_count": 42,
   "metadata": {},
   "outputs": [],
   "source": [
    "table_s3.rename(\n",
    "    index={\"age_cat\": 'Age, years',\n",
    "           'sex': 'Sex',\n",
    "           'asa_cat': \"ASA score\",\n",
    "           'pre_op_treatment': \"Pre-operative treatment\",\n",
    "           'ana_location': 'Localization',\n",
    "           'stage_tnm': 'TNM stage',\n",
    "           'differentiation_grade': 'Grade of differentiation',\n",
    "           'surgery_year': 'Period of Surgery',\n",
    "           'radical_surgery': \"Radical Operation\",\n",
    "           'long_survival': 'Survival',\n",
    "           },\n",
    "    columns={'R2': 'Variation explained (%)', \n",
    "             'p-value': 'crude p-value (999 permutations)', \n",
    "             'p-adj': 'adjusted p-value'\n",
    "            },\n",
    "    inplace=True)"
   ]
  },
  {
   "cell_type": "code",
   "execution_count": 43,
   "metadata": {},
   "outputs": [],
   "source": [
    "table_s3.to_csv('output/tables/table_s2_permanova.tsv', sep='\\t')"
   ]
  },
  {
   "cell_type": "code",
   "execution_count": null,
   "metadata": {},
   "outputs": [],
   "source": []
  },
  {
   "cell_type": "code",
   "execution_count": 44,
   "metadata": {},
   "outputs": [],
   "source": [
    "writer = pd.ExcelWriter('output/supplemental_table_sheets.xlsx', engine='openpyxl')\n",
    "\n",
    "# if os.path.exists('output/supplemental_table_sheets.xlsx'):\n",
    "#     book = openpyxl.load_workbook('output/supplemental_table_sheets.xlsx')\n",
    "#     writer.book = book\n",
    "\n",
    "table_s3.to_excel(writer, sheet_name='Table S2')\n",
    "writer.save()\n",
    "writer.close()"
   ]
  },
  {
   "cell_type": "code",
   "execution_count": 45,
   "metadata": {},
   "outputs": [
    {
     "data": {
      "text/html": [
       "<div>\n",
       "<style scoped>\n",
       "    .dataframe tbody tr th:only-of-type {\n",
       "        vertical-align: middle;\n",
       "    }\n",
       "\n",
       "    .dataframe tbody tr th {\n",
       "        vertical-align: top;\n",
       "    }\n",
       "\n",
       "    .dataframe thead th {\n",
       "        text-align: right;\n",
       "    }\n",
       "</style>\n",
       "<table border=\"1\" class=\"dataframe\">\n",
       "  <thead>\n",
       "    <tr style=\"text-align: right;\">\n",
       "      <th></th>\n",
       "      <th>Variation explained (%)</th>\n",
       "      <th>crude p-value (999 permutations)</th>\n",
       "      <th>adjusted p-value</th>\n",
       "    </tr>\n",
       "  </thead>\n",
       "  <tbody>\n",
       "    <tr>\n",
       "      <th>Age, years</th>\n",
       "      <td>0.038</td>\n",
       "      <td>0.242</td>\n",
       "      <td>0.399</td>\n",
       "    </tr>\n",
       "    <tr>\n",
       "      <th>Sex</th>\n",
       "      <td>0.011</td>\n",
       "      <td>0.319</td>\n",
       "      <td>0.399</td>\n",
       "    </tr>\n",
       "    <tr>\n",
       "      <th>ASA score</th>\n",
       "      <td>0.025</td>\n",
       "      <td>0.277</td>\n",
       "      <td>0.399</td>\n",
       "    </tr>\n",
       "    <tr>\n",
       "      <th>Pre-operative treatment</th>\n",
       "      <td>0.014</td>\n",
       "      <td>0.256</td>\n",
       "      <td>0.399</td>\n",
       "    </tr>\n",
       "    <tr>\n",
       "      <th>Localization</th>\n",
       "      <td>0.037</td>\n",
       "      <td>0.080</td>\n",
       "      <td>0.323</td>\n",
       "    </tr>\n",
       "    <tr>\n",
       "      <th>TNM stage</th>\n",
       "      <td>0.019</td>\n",
       "      <td>0.097</td>\n",
       "      <td>0.323</td>\n",
       "    </tr>\n",
       "    <tr>\n",
       "      <th>Grade of differentiation</th>\n",
       "      <td>0.005</td>\n",
       "      <td>0.950</td>\n",
       "      <td>0.950</td>\n",
       "    </tr>\n",
       "    <tr>\n",
       "      <th>Period of Surgery</th>\n",
       "      <td>0.176</td>\n",
       "      <td>0.001</td>\n",
       "      <td>0.010</td>\n",
       "    </tr>\n",
       "    <tr>\n",
       "      <th>Radical Operation</th>\n",
       "      <td>0.010</td>\n",
       "      <td>0.389</td>\n",
       "      <td>0.432</td>\n",
       "    </tr>\n",
       "    <tr>\n",
       "      <th>Survival</th>\n",
       "      <td>0.012</td>\n",
       "      <td>0.296</td>\n",
       "      <td>0.399</td>\n",
       "    </tr>\n",
       "  </tbody>\n",
       "</table>\n",
       "</div>"
      ],
      "text/plain": [
       "                          Variation explained (%)  \\\n",
       "Age, years                                  0.038   \n",
       "Sex                                         0.011   \n",
       "ASA score                                   0.025   \n",
       "Pre-operative treatment                     0.014   \n",
       "Localization                                0.037   \n",
       "TNM stage                                   0.019   \n",
       "Grade of differentiation                    0.005   \n",
       "Period of Surgery                           0.176   \n",
       "Radical Operation                           0.010   \n",
       "Survival                                    0.012   \n",
       "\n",
       "                          crude p-value (999 permutations)  adjusted p-value  \n",
       "Age, years                                           0.242             0.399  \n",
       "Sex                                                  0.319             0.399  \n",
       "ASA score                                            0.277             0.399  \n",
       "Pre-operative treatment                              0.256             0.399  \n",
       "Localization                                         0.080             0.323  \n",
       "TNM stage                                            0.097             0.323  \n",
       "Grade of differentiation                             0.950             0.950  \n",
       "Period of Surgery                                    0.001             0.010  \n",
       "Radical Operation                                    0.389             0.432  \n",
       "Survival                                             0.296             0.399  "
      ]
     },
     "execution_count": 45,
     "metadata": {},
     "output_type": "execute_result"
    }
   ],
   "source": [
    "table_s3"
   ]
  },
  {
   "cell_type": "markdown",
   "metadata": {},
   "source": [
    "And then we can also maybe look at sample precitions based on the location in rpCA sample"
   ]
  },
  {
   "cell_type": "markdown",
   "metadata": {},
   "source": [
    "## Plotting"
   ]
  },
  {
   "cell_type": "markdown",
   "metadata": {},
   "source": [
    "We finish by making the shiny figure for display. The data figure will be rendered leaving a space open for 3D Emperor plots (generated above) to finish in Illustrator. The figure, at size and scale, is large and unwealdy to render. Be prepared to wait. "
   ]
  },
  {
   "cell_type": "code",
   "execution_count": 24,
   "metadata": {},
   "outputs": [],
   "source": [
    "pc_loadings = subject_biplot.view(skbio.OrdinationResults).proportion_explained"
   ]
  },
  {
   "cell_type": "markdown",
   "metadata": {},
   "source": [
    "And the feature positions in the subject-ordination space"
   ]
  },
  {
   "cell_type": "code",
   "execution_count": 25,
   "metadata": {},
   "outputs": [],
   "source": [
    "feature_coords = pd.concat(axis=1, objs=[\n",
    "    subject_biplot.view(skbio.OrdinationResults).features.add_prefix('PC'),\n",
    "    taxa,\n",
    "])"
   ]
  },
  {
   "cell_type": "code",
   "execution_count": 26,
   "metadata": {},
   "outputs": [],
   "source": [
    "feature_coords['color_name'] = \\\n",
    "    feature_coords['color_group'].replace(tax_colors.mapped_colors)"
   ]
  },
  {
   "cell_type": "code",
   "execution_count": 39,
   "metadata": {},
   "outputs": [],
   "source": [
    "feature_coords['condition_num'] = \\\n",
    "    np.sqrt(np.square(feature_coords[['PC0', \"PC1\", 'PC2']]).sum(axis=1))\n",
    "feature_coords.sort_values('condition_num', ascending=False, inplace=True)\n",
    "family_colors = {fam: tax_colors.mapped_colors[fam] \n",
    "                 for fam in feature_coords.head(10)['color_group']}\n",
    "color_order = ['f__Lachnospiraceae', 'f__Ruminococcaceae', 'c__Clostridia', \n",
    "               'p__Firmicutes',\n",
    "               'f__Synergistaceae', 'Other',\n",
    "              ]"
   ]
  },
  {
   "cell_type": "markdown",
   "metadata": {},
   "source": [
    "And then we can make a very big, very shiny multi-panel figure. Please not ethat the not-draft mode of this takes _forever_ to run, so be cautious about when you need it at 300 dpi."
   ]
  },
  {
   "cell_type": "code",
   "execution_count": 41,
   "metadata": {},
   "outputs": [],
   "source": [
    "subject_coords = pd.concat(axis=1, objs=[\n",
    "    subject_meta,\n",
    "    subject_biplot.view(skbio.OrdinationResults).samples.add_prefix('PC')\n",
    "])"
   ]
  },
  {
   "cell_type": "code",
   "execution_count": null,
   "metadata": {},
   "outputs": [],
   "source": []
  },
  {
   "cell_type": "code",
   "execution_count": 42,
   "metadata": {},
   "outputs": [],
   "source": [
    "error_kwargs = dict(\n",
    "    data=subject_coords,\n",
    "    edgecolor='None',\n",
    "    s=6,\n",
    "    alpha=0.8,\n",
    "    legend=False\n",
    ")\n",
    "bp_kwargs = dict(\n",
    "    linewidth=1,\n",
    "    # palette=['w'],\n",
    "    fliersize=0,\n",
    "    width=0.5,\n",
    "    boxprops={'facecolor': 'w'},\n",
    ")\n",
    "scatter_kwargs = dict(\n",
    "    s=2.5,\n",
    "    edgecolor='None',\n",
    "    marker='.',\n",
    "#     alpha=0.8,\n",
    ")\n",
    "arrow_kwargs = dict(\n",
    "    linewidth=0,\n",
    "    width=0.0075,\n",
    "    length_includes_head=True,\n",
    ")\n",
    "feat_scatter_kwargs = dict(\n",
    "    palette=tax_colors.mapped_colors,\n",
    "    marker='^',\n",
    "    s=4,\n",
    "    edgecolor='None',\n",
    "#     zorder=1000,\n",
    ")"
   ]
  },
  {
   "cell_type": "code",
   "execution_count": null,
   "metadata": {},
   "outputs": [],
   "source": []
  },
  {
   "cell_type": "code",
   "execution_count": 50,
   "metadata": {},
   "outputs": [
    {
     "data": {
      "image/png": "[encoded data removed]",
      "text/plain": [
       "<Figure size 432x504 with 24 Axes>"
      ]
     },
     "metadata": {},
     "output_type": "display_data"
    }
   ],
   "source": [
    "fig = plt.figure(\n",
    "    constrained_layout=True,\n",
    "    # dpi=300,\n",
    "    # facecolor='None',\n",
    "    facecolor='c',\n",
    "    figsize=(6,7),\n",
    "    )\n",
    "high_fig, med_fig, lo_fig = \\\n",
    "    fig.subfigures(3, 1, height_ratios=np.array([3, 6, 2]) / 11, \n",
    "                   hspace=0, facecolor='None')\n",
    "\n",
    "gs_3d = high_fig.add_gridspec(1, 3)\n",
    "ax_3d_feat = high_fig.add_subplot(gs_3d[0])\n",
    "ax_3d_year = high_fig.add_subplot(gs_3d[1])\n",
    "ax_3d_site = high_fig.add_subplot(gs_3d[2])\n",
    "\n",
    "for i, ax in enumerate([ax_3d_feat, ax_3d_year, ax_3d_site]):\n",
    "    # ax.set_xlim([100, 900])\n",
    "    # ax.set_ylim([700, 100])\n",
    "    ax.xaxis.set_tick_params(left=False, right=False, labelleft=False, labelright=False)\n",
    "    ax.yaxis.set_tick_params(left=False, right=False, labelleft=False, labelright=False)\n",
    "#     sn.despine(ax=ax, left=True, right=True, top=True, bottom=True)\n",
    "    # ax.text(100 + (800) * 0.05, \n",
    "    #         100 + (600) * 0.05, \n",
    "    #         'ABC'[i],\n",
    "    #         size=12,\n",
    "    #         ha='left',\n",
    "    #         va='top'\n",
    "    #         )\n",
    "    \n",
    "gs_lo = lo_fig.add_gridspec(1, 3)\n",
    "ax_leg_feat = lo_fig.add_subplot(gs_lo[0])\n",
    "ax_leg_year = lo_fig.add_subplot(gs_lo[1])\n",
    "ax_leg_site = lo_fig.add_subplot(gs_lo[2])\n",
    "\n",
    "for leg in [ax_leg_feat, ax_leg_year, ax_leg_site]:\n",
    "    leg.set_ylim([-1.25, 5.75])\n",
    "    leg.set_xlim([0, 2])\n",
    "    leg.set_xticks([0.2, 1.8])\n",
    "    sn.despine(ax=leg, left=True, right=True, top=False, bottom=True, trim=True)\n",
    "    leg.yaxis.set_tick_params(left=False, labelleft=False, right=False, labelright=False)\n",
    "    leg.xaxis.set_tick_params(left=False, labelleft=False, right=False, labelright=False)\n",
    "    \n",
    "    \n",
    "\n",
    "ax_leg_feat.scatter(\n",
    "    x=np.zeros(6) + 0.1,\n",
    "    y=5 - np.arange(0, 6), \n",
    "    c=pd.Series(family_colors)[color_order],\n",
    "    marker='^',\n",
    "    s=15,\n",
    "    )\n",
    "for i, fam in enumerate(color_order):\n",
    "    ax_leg_feat.text(\n",
    "        0.2, 5 - i, \n",
    "        fam.replace(\"__\", '. '),\n",
    "        ha='left', va='center', size=10)\n",
    "    \n",
    "ax_leg_year.scatter(\n",
    "    x=np.zeros(3) + 0.1,\n",
    "    y=5 - np.arange(0, 3), \n",
    "    c=sn.color_palette('Dark2', n_colors=3),\n",
    "    marker='o',\n",
    "    s=24,\n",
    "    )\n",
    "for i, year in enumerate(sorted(subject_coords['surgery_year'].unique())):\n",
    "    ax_leg_year.text(0.2, 5 - i, year.split(\".\")[1], ha='left', va='center', size=10)\n",
    "    \n",
    "ax_leg_site.scatter(\n",
    "    x= 0.1,\n",
    "    y=5,\n",
    "    c=['#2171b5'],\n",
    "    marker='d',\n",
    "    s=24,\n",
    "    )\n",
    "ax_leg_site.scatter(\n",
    "    x= 0.1,\n",
    "    y=4,\n",
    "    c=['#08306b'],\n",
    "    marker='o',\n",
    "    s=24,\n",
    "    )\n",
    "for i, site in enumerate(['Short-term survival', 'Long-term survival']):\n",
    "    ax_leg_site.text(0.2, 5 - i, site, ha='left', va='center', size=10)\n",
    "    \n",
    "\n",
    "\n",
    "gs = med_fig.add_gridspec(8,12)\n",
    "    \n",
    "ax_m_01_feat = med_fig.add_subplot(gs[1:4, 0:3])\n",
    "ax_0_01_feat = med_fig.add_subplot(gs[0,   0:3], sharex=ax_m_01_feat)\n",
    "ax_1_01_feat = med_fig.add_subplot(gs[1:4, 3], sharey=ax_m_01_feat)\n",
    "\n",
    "ax_m_02_feat = fig.add_subplot(gs[4:7, 0:3], sharex=ax_m_01_feat)\n",
    "ax_0_02_feat = fig.add_subplot(gs[7, 0:3], sharex=ax_m_01_feat)\n",
    "ax_2_02_feat = fig.add_subplot(gs[4:7, 3], sharey=ax_m_01_feat)\n",
    "\n",
    "ax_m_01_year = fig.add_subplot(gs[1:4, 4:7], sharex=ax_m_01_feat, sharey=ax_m_01_feat)\n",
    "ax_0_01_year = fig.add_subplot(gs[0, 4:7], sharex=ax_m_01_feat)\n",
    "ax_1_01_year = fig.add_subplot(gs[1:4, 7], sharey=ax_m_01_feat)\n",
    "\n",
    "ax_m_02_year = fig.add_subplot(gs[4:7, 4:7], sharex=ax_m_02_feat, sharey=ax_m_02_feat)\n",
    "ax_0_02_year = fig.add_subplot(gs[7, 4:7], sharex=ax_m_01_feat)\n",
    "ax_2_02_year = fig.add_subplot(gs[4:7, 7], sharey=ax_m_01_feat)\n",
    "\n",
    "ax_m_01_site = fig.add_subplot(gs[1:4, 8:11], sharex=ax_m_01_feat, sharey=ax_m_01_feat)\n",
    "ax_0_01_site = fig.add_subplot(gs[0, 8:11], sharex=ax_m_01_feat)\n",
    "ax_1_01_site = fig.add_subplot(gs[1:4, 11], sharey=ax_m_01_feat)\n",
    "\n",
    "ax_m_02_site = fig.add_subplot(gs[4:7, 8:11],  sharex=ax_m_02_feat, sharey=ax_m_02_feat)\n",
    "ax_0_02_site = fig.add_subplot(gs[7, 8:11], sharex=ax_m_01_feat)\n",
    "ax_2_02_site = fig.add_subplot(gs[4:7, 11], sharey=ax_m_01_feat)\n",
    "\n",
    "\n",
    "feat_ax = [ax_m_01_feat, ax_0_01_feat, ax_1_01_feat,\n",
    "           ax_m_02_feat, ax_0_02_feat, ax_2_02_feat,\n",
    "           ]\n",
    "year_ax = [ax_m_01_year, ax_0_01_year, ax_1_01_year,\n",
    "           ax_m_02_year, ax_0_02_year, ax_2_02_year,\n",
    "           ]\n",
    "site_ax = [ax_m_01_site, ax_0_01_site, ax_1_01_site,\n",
    "           ax_m_02_site, ax_0_02_site, ax_2_02_site,\n",
    "           ]\n",
    "\n",
    "\n",
    "all_axes = [feat_ax, year_ax, site_ax]\n",
    "grouping_args = [\n",
    "    {'scatter': dict(hue='project_name', palette=['#9f9f9f']),\n",
    "     'marg_0': dict(y=subject_coords['project_name']),\n",
    "     'marg_1': dict(x=subject_coords['project_name']),\n",
    "     'marg_2': dict(x=subject_coords['project_name']),\n",
    "     'palette': ['#9f9f9f'],\n",
    "     },\n",
    "    {'scatter': dict(hue='surgery_year', palette='Dark2'),#$, style='surgery_year'),\n",
    "     'marg_0': dict(y=subject_coords['surgery_year']),\n",
    "     'marg_1': dict(x=subject_coords['surgery_year']),\n",
    "     'marg_2': dict(x=subject_coords['surgery_year']),\n",
    "     'palette': 'Dark2',\n",
    "     },\n",
    "    {'scatter': dict(hue='long_survival', palette={\"0\": '#4292c6', '1': '#08306b'},\n",
    "                     style='long_survival', markers={'0': 'd', '1': 'o'}, sizes={'0': 15, '1': 12}),\n",
    "     'marg_0': dict(y=subject_coords['long_survival']),\n",
    "     'marg_1': dict(x=subject_coords['long_survival']),\n",
    "     'marg_2': dict(x=subject_coords['long_survival']),\n",
    "     'palette': {\"0\": '#4292c6', '1': '#08306b'},\n",
    "     },\n",
    "]\n",
    "\n",
    "for axes, kwargs in zip(*(all_axes, grouping_args)):\n",
    "    ax_m_01, ax_0_01, ax_1_01, ax_m_02, ax_0_02, ax_2_02 = axes\n",
    "    # plots the main axes\n",
    "    sn.scatterplot(x='PC0',y='PC1', \n",
    "                   ax=ax_m_01, \n",
    "                   **error_kwargs,\n",
    "                   **kwargs['scatter']\n",
    "                   )\n",
    "    sn.scatterplot(x='PC0',y='PC2', \n",
    "                   ax=ax_m_02, \n",
    "                   **error_kwargs,\n",
    "                   **kwargs['scatter']\n",
    "                   )\n",
    "    for ax in [ax_0_01, ax_0_02]:\n",
    "        sn.boxplot(\n",
    "            x=subject_coords['PC0'],\n",
    "            orient='h',\n",
    "            ax=ax,\n",
    "            **kwargs['marg_0'],\n",
    "            **bp_kwargs,\n",
    "        )\n",
    "        sn.stripplot(\n",
    "            x=subject_coords['PC0'],\n",
    "            orient='h',\n",
    "            ax=ax,\n",
    "            palette=kwargs['palette'],\n",
    "            **kwargs['marg_0'],\n",
    "            **scatter_kwargs,\n",
    "        )\n",
    "    for i, ax in enumerate([ax_1_01, ax_2_02]):\n",
    "        sn.boxplot(\n",
    "            y=subject_coords['PC{i}'.format(i=i+1)],\n",
    "            orient='v',\n",
    "            ax=ax,\n",
    "            **kwargs['marg_{i}'.format(i=i+1)],\n",
    "            **bp_kwargs,\n",
    "        )\n",
    "        sn.stripplot(\n",
    "            y=subject_coords['PC{i}'.format(i=i+1)],\n",
    "            orient='v',\n",
    "            ax=ax,\n",
    "            palette=kwargs['palette'],\n",
    "            **kwargs['marg_{i}'.format(i=i+1)],\n",
    "            **scatter_kwargs,\n",
    "        )\n",
    "ax_m_01_feat.scatter(feature_coords['PC0'].head(10), \n",
    "                     feature_coords['PC1'].head(10), \n",
    "                     s=1, \n",
    "                     facecolor='None', \n",
    "                     edgecolor='None'\n",
    "                    )\n",
    "ax_m_02_feat.scatter(feature_coords['PC0'].head(10), \n",
    "                     feature_coords['PC2'].head(10), \n",
    "                     s=1, \n",
    "                     facecolor='None', \n",
    "                     edgecolor='None'\n",
    "                     )\n",
    "\n",
    "for feat, [pc0, pc1, pc2, color] in feature_coords.head(10)[['PC0', 'PC1', 'PC2', 'color_name']].iterrows():\n",
    "    ax_m_01_feat.arrow(0, 0, \n",
    "                       pc0, \n",
    "                       pc1, \n",
    "                       color=color,\n",
    "                       **arrow_kwargs,\n",
    "                       zorder=1000,\n",
    "                       )\n",
    "    ax_m_02_feat.arrow(0, 0, \n",
    "                       pc0, \n",
    "                       pc2, \n",
    "                       color=color,\n",
    "                       **arrow_kwargs,\n",
    "                       zorder=1000,\n",
    "                       )\n",
    "    ax_m_01_site.arrow(0, 0, \n",
    "                       pc0, \n",
    "                       pc1, \n",
    "                       color='#919191',\n",
    "                       **arrow_kwargs,\n",
    "                       zorder=1,\n",
    "                       alpha=0.25,\n",
    "                      )\n",
    "    ax_m_01_year.arrow(0, 0, \n",
    "                       pc0, \n",
    "                       pc1, \n",
    "                       color='#919191',\n",
    "                       **arrow_kwargs,\n",
    "                        zorder=1,\n",
    "                       alpha=0.25,\n",
    "                      )\n",
    "    ax_m_02_site.arrow(0, 0, \n",
    "                       pc0, \n",
    "                       pc2, \n",
    "                       color='#919191',\n",
    "                       **arrow_kwargs,\n",
    "                        zorder=1,\n",
    "                       alpha=0.25,\n",
    "                      )\n",
    "    ax_m_02_year.arrow(0, 0, \n",
    "                       pc0, \n",
    "                       pc2, \n",
    "                       color='#919191',\n",
    "                       **arrow_kwargs,\n",
    "                        zorder=1,\n",
    "                       alpha=0.25,\n",
    "                      )\n",
    "ax_0_01_taxa = ax_0_01_feat.twinx()\n",
    "ax_0_02_taxa = ax_0_02_feat.twinx()\n",
    "\n",
    "sn.stripplot(x=feature_coords.head(10)['PC0'],\n",
    "             y=np.zeros(10),\n",
    "             hue=feature_coords.head(10)['color_group'],\n",
    "             orient='h',\n",
    "             **feat_scatter_kwargs,\n",
    "             ax=ax_0_01_taxa,\n",
    "             )\n",
    "sn.stripplot(x=feature_coords.head(10)['PC0'],\n",
    "             y=np.zeros(10),\n",
    "             hue=feature_coords.head(10)['color_group'],\n",
    "             orient='h',\n",
    "             **feat_scatter_kwargs,\n",
    "             ax=ax_0_02_taxa,\n",
    "             )\n",
    "\n",
    "for ax in [ax_0_01_taxa, ax_0_02_taxa]:\n",
    "    ax.legend_.set_visible(False)\n",
    "    ax.yaxis.set_tick_params(left=False, labelleft=False, \n",
    "                             right=False, labelright=False)\n",
    "    sn.despine(ax=ax, left=True, right=True, top=True, bottom=True)\n",
    "\n",
    "ax_1_01_taxa = ax_1_01_feat.twiny()\n",
    "ax_2_02_taxa = ax_2_02_feat.twiny()\n",
    "sn.stripplot(y=feature_coords.head(10)['PC1'],\n",
    "             x=np.zeros(10),\n",
    "             hue=feature_coords.head(10)['color_group'],\n",
    "             orient='v',\n",
    "             **feat_scatter_kwargs,\n",
    "             ax=ax_1_01_taxa,\n",
    "             )\n",
    "sn.stripplot(y=feature_coords.head(10)['PC2'],\n",
    "             x=np.zeros(10),\n",
    "             hue=feature_coords.head(10)['color_group'],\n",
    "             orient='v',\n",
    "             **feat_scatter_kwargs,\n",
    "             ax=ax_2_02_taxa,\n",
    "             )\n",
    "for ax in [ax_1_01_taxa, ax_2_02_taxa]:\n",
    "    ax.legend_.set_visible(False)\n",
    "    ax.xaxis.set_tick_params(left=False, labelleft=False, \n",
    "                             right=False, labelright=False)\n",
    "    sn.despine(ax=ax, left=True, right=True, top=True, bottom=True)\n",
    "\n",
    "for ax in [ax_m_01_feat, ax_m_01_site, ax_m_01_year]:\n",
    "    ax.set_ylabel('PC 2 ({1:1.1%})'.format(*pc_loadings), size=10)\n",
    "    ax.set_xlabel('PC 1 ({0:1.1%})'.format(*pc_loadings), size=10)\n",
    "    ax.xaxis.set_tick_params(left=True, right=True, labelleft=False, \n",
    "                             labelright=False,\n",
    "                             tickdir='in', labelsize=8)\n",
    "    ax.xaxis.set_label_position('top')\n",
    "    ax.yaxis.set_tick_params(left=True, right=True, labelleft=False, \n",
    "                             tickdir='in', labelsize=8)\n",
    "    ax.yaxis.set_major_formatter(StrMethodFormatter(\"{x:>4.2f}\"))\n",
    "\n",
    "    \n",
    "for ax in [ax_m_02_year, ax_m_02_feat, ax_m_02_site]:\n",
    "    ax.set_ylabel('PC 3 ({2:1.1%})'.format(*pc_loadings), size=10)\n",
    "    ax.set_xlabel('PC 1 ({0:1.1%})'.format(*pc_loadings), size=10)\n",
    "    ax.xaxis.set_tick_params(left=True, right=True, labelleft=False, \n",
    "                             tickdir='in', labelsize=8)\n",
    "#     ax.xaxis.get_label().set_visible(False)\n",
    "    ax.yaxis.set_tick_params(left=True, right=True, labelleft=False, \n",
    "                             tickdir='in', labelsize=8)\n",
    "    ax.yaxis.set_major_formatter(StrMethodFormatter(\"{x:>4.2f}\"))\n",
    "\n",
    "for i, ax in enumerate([ax_0_01_feat, ax_0_01_site, ax_0_01_year]):\n",
    "    sn.despine(ax=ax, left=True, right=True, top=True) \n",
    "    ax.xaxis.set_tick_params(bottom=True, top=False, labelbottom=False, labelsize=8)\n",
    "    ax.xaxis.get_label().set_visible(False)\n",
    "    ax.yaxis.set_tick_params(left=False, right=False, labelleft=False, length=0, labelsize=8)\n",
    "    ax.yaxis.get_label().set_visible(False)\n",
    "    ax.set_ylim([-0.5, 2.5])\n",
    "\n",
    "    \n",
    "for ax in [ax_0_02_feat, ax_0_02_year, ax_0_02_site]:\n",
    "#     ax.set_facecolor('c')\n",
    "    sn.despine(ax=ax, left=True, right=True, top=False, bottom=True)\n",
    "    ax.xaxis.set_tick_params(bottom=False, top=True, labelbottom=False, labeltop=False, labelsize=8)\n",
    "    ax.xaxis.get_label().set_visible(False)\n",
    "    ax.yaxis.set_tick_params(left=False, right=False, labelleft=False, length=0, labelsize=8)\n",
    "    ax.yaxis.get_label().set_visible(False)\n",
    "    ax.set_ylim([2.5, -0.5])\n",
    "    \n",
    "\n",
    "for ax in [ax_1_01_feat, ax_1_01_year, ax_1_01_site, ax_2_02_feat, ax_2_02_year, ax_2_02_site]:\n",
    "    sn.despine(ax=ax, left=False, right=True, top=True, bottom=True)\n",
    "    ax.yaxis.set_tick_params(bottom=True, top=False, labelbottom=False, labelsize=8)\n",
    "    ax.xaxis.set_tick_params(left=False, right=False, labelleft=False, length=0, labelsize=8)\n",
    "    ax.xaxis.get_label().set_visible(False)\n",
    "    ax.yaxis.get_label().set_visible(False)\n",
    "    ax.set_xlim([-0.5, 2.5])\n",
    "    \n",
    "\n",
    "    \n",
    "fig.savefig('output/figures/figure_s3_ctf_ord.pdf', facecolor='None')\n",
    "\n"
   ]
  },
  {
   "cell_type": "code",
   "execution_count": null,
   "metadata": {},
   "outputs": [],
   "source": []
  }
 ],
 "metadata": {
  "kernelspec": {
   "display_name": "Python 3 (ipykernel)",
   "language": "python",
   "name": "python3"
  },
  "language_info": {
   "codemirror_mode": {
    "name": "ipython",
    "version": 3
   },
   "file_extension": ".py",
   "mimetype": "text/x-python",
   "name": "python",
   "nbconvert_exporter": "python",
   "pygments_lexer": "ipython3",
   "version": "3.8.12"
  }
 },
 "nbformat": 4,
 "nbformat_minor": 4
}
